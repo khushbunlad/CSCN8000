{
 "cells": [
  {
   "cell_type": "markdown",
   "metadata": {},
   "source": [
    "# CSCN8000 –Artificial Intelligence Algorithms and Mathematics\n",
    "<br>\n",
    "Name       : Khushbu Nileshkumar Lad<br>\n",
    "Student No : 9027375\n",
    "\n",
    "## Assignment 3"
   ]
  },
  {
   "cell_type": "markdown",
   "metadata": {},
   "source": [
    "## Part 1: Model Training and Evaluation"
   ]
  },
  {
   "cell_type": "markdown",
   "metadata": {},
   "source": [
    "##### Import libraries"
   ]
  },
  {
   "cell_type": "code",
   "execution_count": 18,
   "metadata": {},
   "outputs": [],
   "source": [
    "import numpy as np\n",
    "import pandas as pd\n",
    "import matplotlib.pyplot as plt\n",
    "from sklearn.preprocessing import MinMaxScaler, StandardScaler, RobustScaler\n",
    "from sklearn.preprocessing import LabelEncoder\n",
    "import seaborn as sns\n",
    "from sklearn.model_selection import train_test_split, cross_val_score, GridSearchCV\n",
    "from sklearn.neural_network import MLPClassifier\n",
    "from sklearn.metrics import f1_score, classification_report\n",
    "from sklearn.decomposition import PCA\n",
    "import matplotlib.pyplot as plt\n",
    "import numpy as np\n"
   ]
  },
  {
   "cell_type": "markdown",
   "metadata": {},
   "source": [
    "##### Load dataset"
   ]
  },
  {
   "cell_type": "code",
   "execution_count": 3,
   "metadata": {},
   "outputs": [
    {
     "data": {
      "text/html": [
       "<div>\n",
       "<style scoped>\n",
       "    .dataframe tbody tr th:only-of-type {\n",
       "        vertical-align: middle;\n",
       "    }\n",
       "\n",
       "    .dataframe tbody tr th {\n",
       "        vertical-align: top;\n",
       "    }\n",
       "\n",
       "    .dataframe thead th {\n",
       "        text-align: right;\n",
       "    }\n",
       "</style>\n",
       "<table border=\"1\" class=\"dataframe\">\n",
       "  <thead>\n",
       "    <tr style=\"text-align: right;\">\n",
       "      <th></th>\n",
       "      <th>id</th>\n",
       "      <th>gender</th>\n",
       "      <th>age</th>\n",
       "      <th>hypertension</th>\n",
       "      <th>heart_disease</th>\n",
       "      <th>ever_married</th>\n",
       "      <th>work_type</th>\n",
       "      <th>Residence_type</th>\n",
       "      <th>avg_glucose_level</th>\n",
       "      <th>bmi</th>\n",
       "      <th>smoking_status</th>\n",
       "      <th>stroke</th>\n",
       "    </tr>\n",
       "  </thead>\n",
       "  <tbody>\n",
       "    <tr>\n",
       "      <th>0</th>\n",
       "      <td>9046</td>\n",
       "      <td>Male</td>\n",
       "      <td>67.0</td>\n",
       "      <td>0</td>\n",
       "      <td>1</td>\n",
       "      <td>Yes</td>\n",
       "      <td>Private</td>\n",
       "      <td>Urban</td>\n",
       "      <td>228.69</td>\n",
       "      <td>36.6</td>\n",
       "      <td>formerly smoked</td>\n",
       "      <td>1</td>\n",
       "    </tr>\n",
       "    <tr>\n",
       "      <th>1</th>\n",
       "      <td>51676</td>\n",
       "      <td>Female</td>\n",
       "      <td>61.0</td>\n",
       "      <td>0</td>\n",
       "      <td>0</td>\n",
       "      <td>Yes</td>\n",
       "      <td>Self-employed</td>\n",
       "      <td>Rural</td>\n",
       "      <td>202.21</td>\n",
       "      <td>NaN</td>\n",
       "      <td>never smoked</td>\n",
       "      <td>1</td>\n",
       "    </tr>\n",
       "  </tbody>\n",
       "</table>\n",
       "</div>"
      ],
      "text/plain": [
       "      id  gender   age  hypertension  heart_disease ever_married  \\\n",
       "0   9046    Male  67.0             0              1          Yes   \n",
       "1  51676  Female  61.0             0              0          Yes   \n",
       "\n",
       "       work_type Residence_type  avg_glucose_level   bmi   smoking_status  \\\n",
       "0        Private          Urban             228.69  36.6  formerly smoked   \n",
       "1  Self-employed          Rural             202.21   NaN     never smoked   \n",
       "\n",
       "   stroke  \n",
       "0       1  \n",
       "1       1  "
      ]
     },
     "execution_count": 3,
     "metadata": {},
     "output_type": "execute_result"
    }
   ],
   "source": [
    "stroke_dataset = pd.read_csv(\"./Dataset/stroke.csv\")\n",
    "stroke_dataset.head(2)"
   ]
  },
  {
   "cell_type": "markdown",
   "metadata": {},
   "source": [
    "### Data Preprocessing"
   ]
  },
  {
   "cell_type": "markdown",
   "metadata": {},
   "source": [
    "#### a. Fill in the missing values in numerical/categorical columns with an appropriate way"
   ]
  },
  {
   "cell_type": "markdown",
   "metadata": {},
   "source": [
    "Check missing values"
   ]
  },
  {
   "cell_type": "code",
   "execution_count": 4,
   "metadata": {},
   "outputs": [
    {
     "name": "stdout",
     "output_type": "stream",
     "text": [
      "id                     0\n",
      "gender                 0\n",
      "age                    0\n",
      "hypertension           0\n",
      "heart_disease          0\n",
      "ever_married           0\n",
      "work_type              0\n",
      "Residence_type         0\n",
      "avg_glucose_level      0\n",
      "bmi                  201\n",
      "smoking_status         0\n",
      "stroke                 0\n",
      "dtype: int64\n"
     ]
    }
   ],
   "source": [
    "## Check null values in columns\n",
    "print(stroke_dataset.isnull().sum())"
   ]
  },
  {
   "cell_type": "markdown",
   "metadata": {},
   "source": [
    "Null values are found only in column \"bmi\", so validating distribution of this column to fill missing values"
   ]
  },
  {
   "cell_type": "code",
   "execution_count": 5,
   "metadata": {},
   "outputs": [
    {
     "data": {
      "image/png": "[encoded data removed]",
      "text/plain": [
       "<Figure size 400x400 with 1 Axes>"
      ]
     },
     "metadata": {},
     "output_type": "display_data"
    }
   ],
   "source": [
    "column_name = 'bmi'\n",
    "\n",
    "# Histogram\n",
    "plt.figure(figsize=(4, 4))\n",
    "sns.histplot(stroke_dataset[column_name], kde=True, bins=30)\n",
    "plt.title(f'Distribution of {column_name}')\n",
    "plt.xlabel(column_name)\n",
    "plt.ylabel('Frequency')\n",
    "plt.show()\n"
   ]
  },
  {
   "cell_type": "code",
   "execution_count": 6,
   "metadata": {},
   "outputs": [
    {
     "name": "stdout",
     "output_type": "stream",
     "text": [
      "count    4909.000000\n",
      "mean       28.893237\n",
      "std         7.854067\n",
      "min        10.300000\n",
      "25%        23.500000\n",
      "50%        28.100000\n",
      "75%        33.100000\n",
      "max        97.600000\n",
      "Name: bmi, dtype: float64\n",
      "mean   : 28.893236911794666\n",
      "median : 28.1\n",
      "mode   : 0    28.7\n",
      "Name: bmi, dtype: float64\n"
     ]
    }
   ],
   "source": [
    "print(stroke_dataset['bmi'].describe())\n",
    "print(f\"mean   : {stroke_dataset['bmi'].mean()}\")\n",
    "print(f\"median : {stroke_dataset['bmi'].median()}\")\n",
    "print(f\"mode   : {stroke_dataset['bmi'].mode()}\")"
   ]
  },
  {
   "cell_type": "markdown",
   "metadata": {},
   "source": [
    "BMI data is **right skewed**, so null values can be replaced by **median** as median is **less affected by outliers**. "
   ]
  },
  {
   "cell_type": "code",
   "execution_count": 7,
   "metadata": {},
   "outputs": [],
   "source": [
    "stroke_dataset['bmi'] = stroke_dataset['bmi'].fillna(stroke_dataset['bmi'].median())\n"
   ]
  },
  {
   "cell_type": "markdown",
   "metadata": {},
   "source": [
    "#### b. Encode the categorical features using categorical encoding"
   ]
  },
  {
   "cell_type": "code",
   "execution_count": 8,
   "metadata": {},
   "outputs": [
    {
     "name": "stdout",
     "output_type": "stream",
     "text": [
      "Unique values in column 'gender':\n",
      "['Male' 'Female' 'Other']\n",
      "\n",
      "Unique values in column 'ever_married':\n",
      "['Yes' 'No']\n",
      "\n",
      "Unique values in column 'work_type':\n",
      "['Private' 'Self-employed' 'Govt_job' 'children' 'Never_worked']\n",
      "\n",
      "Unique values in column 'Residence_type':\n",
      "['Urban' 'Rural']\n",
      "\n",
      "Unique values in column 'smoking_status':\n",
      "['formerly smoked' 'never smoked' 'smokes' 'Unknown']\n",
      "\n"
     ]
    }
   ],
   "source": [
    "categorical_columns = stroke_dataset.select_dtypes(include=['object', 'category'])\n",
    "for col in categorical_columns.columns:\n",
    "    print(f\"Unique values in column '{col}':\")\n",
    "    print(categorical_columns[col].unique())\n",
    "    print()  "
   ]
  },
  {
   "cell_type": "markdown",
   "metadata": {},
   "source": [
    "Observing unique values, apply following encoding to above columns\n",
    "<br>\n",
    "<br>\n",
    "***Label encoding***\n",
    "1. gender\n",
    "2. ever_married\n",
    "3. Residence_type\n",
    "4. work_type \n",
    "\n",
    "***One hot encoding***\n",
    "1. smoking_status"
   ]
  },
  {
   "cell_type": "code",
   "execution_count": 9,
   "metadata": {},
   "outputs": [],
   "source": [
    "label_encoder = LabelEncoder()\n",
    "\n",
    "# Apply Label Encoding\n",
    "for col in ['gender', 'ever_married', 'Residence_type', 'work_type']:\n",
    "    stroke_dataset[col] = label_encoder.fit_transform(stroke_dataset[col])\n",
    "\n",
    "# Apply One-Hot Encoding for 'smoking_status'\n",
    "stroke_dataset = pd.get_dummies(stroke_dataset, columns=['smoking_status'], prefix='smoking_status')"
   ]
  },
  {
   "cell_type": "code",
   "execution_count": 10,
   "metadata": {},
   "outputs": [
    {
     "data": {
      "text/html": [
       "<div>\n",
       "<style scoped>\n",
       "    .dataframe tbody tr th:only-of-type {\n",
       "        vertical-align: middle;\n",
       "    }\n",
       "\n",
       "    .dataframe tbody tr th {\n",
       "        vertical-align: top;\n",
       "    }\n",
       "\n",
       "    .dataframe thead th {\n",
       "        text-align: right;\n",
       "    }\n",
       "</style>\n",
       "<table border=\"1\" class=\"dataframe\">\n",
       "  <thead>\n",
       "    <tr style=\"text-align: right;\">\n",
       "      <th></th>\n",
       "      <th>id</th>\n",
       "      <th>gender</th>\n",
       "      <th>age</th>\n",
       "      <th>hypertension</th>\n",
       "      <th>heart_disease</th>\n",
       "      <th>ever_married</th>\n",
       "      <th>work_type</th>\n",
       "      <th>Residence_type</th>\n",
       "      <th>avg_glucose_level</th>\n",
       "      <th>bmi</th>\n",
       "      <th>stroke</th>\n",
       "      <th>smoking_status_Unknown</th>\n",
       "      <th>smoking_status_formerly smoked</th>\n",
       "      <th>smoking_status_never smoked</th>\n",
       "      <th>smoking_status_smokes</th>\n",
       "    </tr>\n",
       "  </thead>\n",
       "  <tbody>\n",
       "    <tr>\n",
       "      <th>0</th>\n",
       "      <td>9046</td>\n",
       "      <td>1</td>\n",
       "      <td>67.0</td>\n",
       "      <td>0</td>\n",
       "      <td>1</td>\n",
       "      <td>1</td>\n",
       "      <td>2</td>\n",
       "      <td>1</td>\n",
       "      <td>228.69</td>\n",
       "      <td>36.6</td>\n",
       "      <td>1</td>\n",
       "      <td>False</td>\n",
       "      <td>True</td>\n",
       "      <td>False</td>\n",
       "      <td>False</td>\n",
       "    </tr>\n",
       "    <tr>\n",
       "      <th>1</th>\n",
       "      <td>51676</td>\n",
       "      <td>0</td>\n",
       "      <td>61.0</td>\n",
       "      <td>0</td>\n",
       "      <td>0</td>\n",
       "      <td>1</td>\n",
       "      <td>3</td>\n",
       "      <td>0</td>\n",
       "      <td>202.21</td>\n",
       "      <td>28.1</td>\n",
       "      <td>1</td>\n",
       "      <td>False</td>\n",
       "      <td>False</td>\n",
       "      <td>True</td>\n",
       "      <td>False</td>\n",
       "    </tr>\n",
       "    <tr>\n",
       "      <th>2</th>\n",
       "      <td>31112</td>\n",
       "      <td>1</td>\n",
       "      <td>80.0</td>\n",
       "      <td>0</td>\n",
       "      <td>1</td>\n",
       "      <td>1</td>\n",
       "      <td>2</td>\n",
       "      <td>0</td>\n",
       "      <td>105.92</td>\n",
       "      <td>32.5</td>\n",
       "      <td>1</td>\n",
       "      <td>False</td>\n",
       "      <td>False</td>\n",
       "      <td>True</td>\n",
       "      <td>False</td>\n",
       "    </tr>\n",
       "    <tr>\n",
       "      <th>3</th>\n",
       "      <td>60182</td>\n",
       "      <td>0</td>\n",
       "      <td>49.0</td>\n",
       "      <td>0</td>\n",
       "      <td>0</td>\n",
       "      <td>1</td>\n",
       "      <td>2</td>\n",
       "      <td>1</td>\n",
       "      <td>171.23</td>\n",
       "      <td>34.4</td>\n",
       "      <td>1</td>\n",
       "      <td>False</td>\n",
       "      <td>False</td>\n",
       "      <td>False</td>\n",
       "      <td>True</td>\n",
       "    </tr>\n",
       "    <tr>\n",
       "      <th>4</th>\n",
       "      <td>1665</td>\n",
       "      <td>0</td>\n",
       "      <td>79.0</td>\n",
       "      <td>1</td>\n",
       "      <td>0</td>\n",
       "      <td>1</td>\n",
       "      <td>3</td>\n",
       "      <td>0</td>\n",
       "      <td>174.12</td>\n",
       "      <td>24.0</td>\n",
       "      <td>1</td>\n",
       "      <td>False</td>\n",
       "      <td>False</td>\n",
       "      <td>True</td>\n",
       "      <td>False</td>\n",
       "    </tr>\n",
       "  </tbody>\n",
       "</table>\n",
       "</div>"
      ],
      "text/plain": [
       "      id  gender   age  hypertension  heart_disease  ever_married  work_type  \\\n",
       "0   9046       1  67.0             0              1             1          2   \n",
       "1  51676       0  61.0             0              0             1          3   \n",
       "2  31112       1  80.0             0              1             1          2   \n",
       "3  60182       0  49.0             0              0             1          2   \n",
       "4   1665       0  79.0             1              0             1          3   \n",
       "\n",
       "   Residence_type  avg_glucose_level   bmi  stroke  smoking_status_Unknown  \\\n",
       "0               1             228.69  36.6       1                   False   \n",
       "1               0             202.21  28.1       1                   False   \n",
       "2               0             105.92  32.5       1                   False   \n",
       "3               1             171.23  34.4       1                   False   \n",
       "4               0             174.12  24.0       1                   False   \n",
       "\n",
       "   smoking_status_formerly smoked  smoking_status_never smoked  \\\n",
       "0                            True                        False   \n",
       "1                           False                         True   \n",
       "2                           False                         True   \n",
       "3                           False                        False   \n",
       "4                           False                         True   \n",
       "\n",
       "   smoking_status_smokes  \n",
       "0                  False  \n",
       "1                  False  \n",
       "2                  False  \n",
       "3                   True  \n",
       "4                  False  "
      ]
     },
     "execution_count": 10,
     "metadata": {},
     "output_type": "execute_result"
    }
   ],
   "source": [
    "# Display the transformed dataset\n",
    "stroke_dataset.head()"
   ]
  },
  {
   "cell_type": "markdown",
   "metadata": {},
   "source": [
    "## ML Model Training and Testing Tasks"
   ]
  },
  {
   "cell_type": "markdown",
   "metadata": {},
   "source": [
    "##### 1. Split the processed data into training and testing sets (e.g., 80% training, 20% testing)."
   ]
  },
  {
   "cell_type": "code",
   "execution_count": 11,
   "metadata": {},
   "outputs": [
    {
     "name": "stdout",
     "output_type": "stream",
     "text": [
      "Training set size: (4088, 14)\n",
      "Testing set size: (1022, 14)\n"
     ]
    }
   ],
   "source": [
    "X = stroke_dataset.drop(columns=['stroke'])  # Features\n",
    "y = stroke_dataset['stroke']  # Target variable\n",
    "\n",
    "# Split the data into training and testing sets (80%-20%)\n",
    "X_train, X_test, y_train, y_test = train_test_split(X, y, test_size=0.2, random_state=42)\n",
    "print(f\"Training set size: {X_train.shape}\")\n",
    "print(f\"Testing set size: {X_test.shape}\")\n"
   ]
  },
  {
   "cell_type": "markdown",
   "metadata": {},
   "source": [
    "##### 2. Train the MLP model on the training set, however you need to do a comparison between the performance of the model on a validation set (with cross-validation) using different hyperparameter values:\n",
    "1. Need to try out 10 different overall variations of number of layers and number of neurons per layer. For example one variation could be 2 hidden layers with 64 neurons in first and 32 in second.\n",
    "2. Need to try out at least 3 different learning rate values.\n",
    "3. Note: The GridSearchCV function in sklearn could help with that."
   ]
  },
  {
   "cell_type": "markdown",
   "metadata": {},
   "source": [
    "##### Standardize the data for MLP"
   ]
  },
  {
   "cell_type": "code",
   "execution_count": 12,
   "metadata": {},
   "outputs": [],
   "source": [
    "scaler = StandardScaler()\n",
    "X_train_scaled = scaler.fit_transform(X_train)\n",
    "X_test_scaled = scaler.transform(X_test)"
   ]
  },
  {
   "cell_type": "markdown",
   "metadata": {},
   "source": [
    "##### MLP Classifier"
   ]
  },
  {
   "cell_type": "code",
   "execution_count": 13,
   "metadata": {},
   "outputs": [],
   "source": [
    "mlp = MLPClassifier(max_iter=1000, random_state=42)\n",
    "param_grid = {\n",
    "    'hidden_layer_sizes': [\n",
    "        (32,), (64,), (128,),  # Single hidden layers with 32, 64, and 128 neurons\n",
    "        (64, 32), (128, 64), (256, 128),  # Two hidden layers with different neurons\n",
    "        (64, 64), (128, 128), (256, 256),  # Equal sized two layers with increasing neurons\n",
    "        (64, 64, 32), (128, 64, 32)  # Three hidden layers with decreasing neurons\n",
    "    ],\n",
    "    'learning_rate_init': [0.0001, 0.001, 0.01],\n",
    "}\n",
    "\n",
    "grid_search = GridSearchCV(estimator=mlp, param_grid=param_grid, cv=5, scoring='accuracy', verbose=2)"
   ]
  },
  {
   "cell_type": "code",
   "execution_count": 14,
   "metadata": {},
   "outputs": [
    {
     "name": "stdout",
     "output_type": "stream",
     "text": [
      "Fitting 5 folds for each of 33 candidates, totalling 165 fits\n",
      "[CV] END hidden_layer_sizes=(32,), learning_rate_init=0.0001; total time=   1.9s\n",
      "[CV] END hidden_layer_sizes=(32,), learning_rate_init=0.0001; total time=   1.7s\n",
      "[CV] END hidden_layer_sizes=(32,), learning_rate_init=0.0001; total time=   1.7s\n",
      "[CV] END hidden_layer_sizes=(32,), learning_rate_init=0.0001; total time=   1.7s\n",
      "[CV] END hidden_layer_sizes=(32,), learning_rate_init=0.0001; total time=   1.6s\n",
      "[CV] END .hidden_layer_sizes=(32,), learning_rate_init=0.001; total time=   3.3s\n",
      "[CV] END .hidden_layer_sizes=(32,), learning_rate_init=0.001; total time=   4.1s\n",
      "[CV] END .hidden_layer_sizes=(32,), learning_rate_init=0.001; total time=   2.9s\n",
      "[CV] END .hidden_layer_sizes=(32,), learning_rate_init=0.001; total time=   3.1s\n",
      "[CV] END .hidden_layer_sizes=(32,), learning_rate_init=0.001; total time=   4.8s\n",
      "[CV] END ..hidden_layer_sizes=(32,), learning_rate_init=0.01; total time=   1.1s\n",
      "[CV] END ..hidden_layer_sizes=(32,), learning_rate_init=0.01; total time=   1.2s\n",
      "[CV] END ..hidden_layer_sizes=(32,), learning_rate_init=0.01; total time=   0.9s\n",
      "[CV] END ..hidden_layer_sizes=(32,), learning_rate_init=0.01; total time=   0.8s\n",
      "[CV] END ..hidden_layer_sizes=(32,), learning_rate_init=0.01; total time=   1.3s\n",
      "[CV] END hidden_layer_sizes=(64,), learning_rate_init=0.0001; total time=   1.7s\n",
      "[CV] END hidden_layer_sizes=(64,), learning_rate_init=0.0001; total time=   1.5s\n",
      "[CV] END hidden_layer_sizes=(64,), learning_rate_init=0.0001; total time=   2.9s\n",
      "[CV] END hidden_layer_sizes=(64,), learning_rate_init=0.0001; total time=   5.1s\n",
      "[CV] END hidden_layer_sizes=(64,), learning_rate_init=0.0001; total time=   4.8s\n",
      "[CV] END .hidden_layer_sizes=(64,), learning_rate_init=0.001; total time=  19.2s\n",
      "[CV] END .hidden_layer_sizes=(64,), learning_rate_init=0.001; total time=  13.5s\n",
      "[CV] END .hidden_layer_sizes=(64,), learning_rate_init=0.001; total time=   6.3s\n",
      "[CV] END .hidden_layer_sizes=(64,), learning_rate_init=0.001; total time=  12.8s\n"
     ]
    },
    {
     "name": "stderr",
     "output_type": "stream",
     "text": [
      "d:\\Conestoga\\CSCN8000-AIAM\\CSCN8000\\venvCSCN8000\\Lib\\site-packages\\sklearn\\neural_network\\_multilayer_perceptron.py:690: ConvergenceWarning: Stochastic Optimizer: Maximum iterations (1000) reached and the optimization hasn't converged yet.\n",
      "  warnings.warn(\n"
     ]
    },
    {
     "name": "stdout",
     "output_type": "stream",
     "text": [
      "[CV] END .hidden_layer_sizes=(64,), learning_rate_init=0.001; total time=  13.4s\n",
      "[CV] END ..hidden_layer_sizes=(64,), learning_rate_init=0.01; total time=   1.4s\n",
      "[CV] END ..hidden_layer_sizes=(64,), learning_rate_init=0.01; total time=   1.0s\n",
      "[CV] END ..hidden_layer_sizes=(64,), learning_rate_init=0.01; total time=   1.6s\n",
      "[CV] END ..hidden_layer_sizes=(64,), learning_rate_init=0.01; total time=   4.2s\n",
      "[CV] END ..hidden_layer_sizes=(64,), learning_rate_init=0.01; total time=   3.9s\n",
      "[CV] END hidden_layer_sizes=(128,), learning_rate_init=0.0001; total time=   5.7s\n",
      "[CV] END hidden_layer_sizes=(128,), learning_rate_init=0.0001; total time=   5.2s\n",
      "[CV] END hidden_layer_sizes=(128,), learning_rate_init=0.0001; total time=   5.9s\n",
      "[CV] END hidden_layer_sizes=(128,), learning_rate_init=0.0001; total time=   6.4s\n",
      "[CV] END hidden_layer_sizes=(128,), learning_rate_init=0.0001; total time=   4.3s\n",
      "[CV] END hidden_layer_sizes=(128,), learning_rate_init=0.001; total time=  23.8s\n",
      "[CV] END hidden_layer_sizes=(128,), learning_rate_init=0.001; total time=  28.4s\n",
      "[CV] END hidden_layer_sizes=(128,), learning_rate_init=0.001; total time=   8.3s\n",
      "[CV] END hidden_layer_sizes=(128,), learning_rate_init=0.001; total time=   8.0s\n",
      "[CV] END hidden_layer_sizes=(128,), learning_rate_init=0.001; total time=   7.8s\n",
      "[CV] END .hidden_layer_sizes=(128,), learning_rate_init=0.01; total time=   5.7s\n",
      "[CV] END .hidden_layer_sizes=(128,), learning_rate_init=0.01; total time=   2.3s\n",
      "[CV] END .hidden_layer_sizes=(128,), learning_rate_init=0.01; total time=   1.1s\n",
      "[CV] END .hidden_layer_sizes=(128,), learning_rate_init=0.01; total time=   1.3s\n",
      "[CV] END .hidden_layer_sizes=(128,), learning_rate_init=0.01; total time=   1.7s\n",
      "[CV] END hidden_layer_sizes=(64, 32), learning_rate_init=0.0001; total time=   4.2s\n",
      "[CV] END hidden_layer_sizes=(64, 32), learning_rate_init=0.0001; total time=   3.0s\n",
      "[CV] END hidden_layer_sizes=(64, 32), learning_rate_init=0.0001; total time=   2.2s\n",
      "[CV] END hidden_layer_sizes=(64, 32), learning_rate_init=0.0001; total time=   2.3s\n",
      "[CV] END hidden_layer_sizes=(64, 32), learning_rate_init=0.0001; total time=   2.7s\n",
      "[CV] END hidden_layer_sizes=(64, 32), learning_rate_init=0.001; total time=   4.6s\n",
      "[CV] END hidden_layer_sizes=(64, 32), learning_rate_init=0.001; total time=   4.0s\n",
      "[CV] END hidden_layer_sizes=(64, 32), learning_rate_init=0.001; total time=   4.2s\n",
      "[CV] END hidden_layer_sizes=(64, 32), learning_rate_init=0.001; total time=   4.1s\n",
      "[CV] END hidden_layer_sizes=(64, 32), learning_rate_init=0.001; total time=   4.2s\n",
      "[CV] END hidden_layer_sizes=(64, 32), learning_rate_init=0.01; total time=   0.9s\n",
      "[CV] END hidden_layer_sizes=(64, 32), learning_rate_init=0.01; total time=   1.0s\n",
      "[CV] END hidden_layer_sizes=(64, 32), learning_rate_init=0.01; total time=   0.9s\n",
      "[CV] END hidden_layer_sizes=(64, 32), learning_rate_init=0.01; total time=   0.6s\n",
      "[CV] END hidden_layer_sizes=(64, 32), learning_rate_init=0.01; total time=   0.7s\n"
     ]
    },
    {
     "name": "stderr",
     "output_type": "stream",
     "text": [
      "d:\\Conestoga\\CSCN8000-AIAM\\CSCN8000\\venvCSCN8000\\Lib\\site-packages\\sklearn\\neural_network\\_multilayer_perceptron.py:690: ConvergenceWarning: Stochastic Optimizer: Maximum iterations (1000) reached and the optimization hasn't converged yet.\n",
      "  warnings.warn(\n"
     ]
    },
    {
     "name": "stdout",
     "output_type": "stream",
     "text": [
      "[CV] END hidden_layer_sizes=(128, 64), learning_rate_init=0.0001; total time=  24.6s\n"
     ]
    },
    {
     "name": "stderr",
     "output_type": "stream",
     "text": [
      "d:\\Conestoga\\CSCN8000-AIAM\\CSCN8000\\venvCSCN8000\\Lib\\site-packages\\sklearn\\neural_network\\_multilayer_perceptron.py:690: ConvergenceWarning: Stochastic Optimizer: Maximum iterations (1000) reached and the optimization hasn't converged yet.\n",
      "  warnings.warn(\n"
     ]
    },
    {
     "name": "stdout",
     "output_type": "stream",
     "text": [
      "[CV] END hidden_layer_sizes=(128, 64), learning_rate_init=0.0001; total time=  28.8s\n"
     ]
    },
    {
     "name": "stderr",
     "output_type": "stream",
     "text": [
      "d:\\Conestoga\\CSCN8000-AIAM\\CSCN8000\\venvCSCN8000\\Lib\\site-packages\\sklearn\\neural_network\\_multilayer_perceptron.py:690: ConvergenceWarning: Stochastic Optimizer: Maximum iterations (1000) reached and the optimization hasn't converged yet.\n",
      "  warnings.warn(\n"
     ]
    },
    {
     "name": "stdout",
     "output_type": "stream",
     "text": [
      "[CV] END hidden_layer_sizes=(128, 64), learning_rate_init=0.0001; total time=  32.2s\n"
     ]
    },
    {
     "name": "stderr",
     "output_type": "stream",
     "text": [
      "d:\\Conestoga\\CSCN8000-AIAM\\CSCN8000\\venvCSCN8000\\Lib\\site-packages\\sklearn\\neural_network\\_multilayer_perceptron.py:690: ConvergenceWarning: Stochastic Optimizer: Maximum iterations (1000) reached and the optimization hasn't converged yet.\n",
      "  warnings.warn(\n"
     ]
    },
    {
     "name": "stdout",
     "output_type": "stream",
     "text": [
      "[CV] END hidden_layer_sizes=(128, 64), learning_rate_init=0.0001; total time=  25.0s\n"
     ]
    },
    {
     "name": "stderr",
     "output_type": "stream",
     "text": [
      "d:\\Conestoga\\CSCN8000-AIAM\\CSCN8000\\venvCSCN8000\\Lib\\site-packages\\sklearn\\neural_network\\_multilayer_perceptron.py:690: ConvergenceWarning: Stochastic Optimizer: Maximum iterations (1000) reached and the optimization hasn't converged yet.\n",
      "  warnings.warn(\n"
     ]
    },
    {
     "name": "stdout",
     "output_type": "stream",
     "text": [
      "[CV] END hidden_layer_sizes=(128, 64), learning_rate_init=0.0001; total time=  25.8s\n",
      "[CV] END hidden_layer_sizes=(128, 64), learning_rate_init=0.001; total time=   4.8s\n",
      "[CV] END hidden_layer_sizes=(128, 64), learning_rate_init=0.001; total time=   7.2s\n",
      "[CV] END hidden_layer_sizes=(128, 64), learning_rate_init=0.001; total time=  12.1s\n",
      "[CV] END hidden_layer_sizes=(128, 64), learning_rate_init=0.001; total time=   6.8s\n",
      "[CV] END hidden_layer_sizes=(128, 64), learning_rate_init=0.001; total time=   7.1s\n",
      "[CV] END hidden_layer_sizes=(128, 64), learning_rate_init=0.01; total time=   2.8s\n",
      "[CV] END hidden_layer_sizes=(128, 64), learning_rate_init=0.01; total time=   1.6s\n",
      "[CV] END hidden_layer_sizes=(128, 64), learning_rate_init=0.01; total time=   2.6s\n",
      "[CV] END hidden_layer_sizes=(128, 64), learning_rate_init=0.01; total time=   1.9s\n",
      "[CV] END hidden_layer_sizes=(128, 64), learning_rate_init=0.01; total time=   1.7s\n",
      "[CV] END hidden_layer_sizes=(256, 128), learning_rate_init=0.0001; total time= 1.4min\n",
      "[CV] END hidden_layer_sizes=(256, 128), learning_rate_init=0.0001; total time=  57.2s\n"
     ]
    },
    {
     "name": "stderr",
     "output_type": "stream",
     "text": [
      "d:\\Conestoga\\CSCN8000-AIAM\\CSCN8000\\venvCSCN8000\\Lib\\site-packages\\sklearn\\neural_network\\_multilayer_perceptron.py:690: ConvergenceWarning: Stochastic Optimizer: Maximum iterations (1000) reached and the optimization hasn't converged yet.\n",
      "  warnings.warn(\n"
     ]
    },
    {
     "name": "stdout",
     "output_type": "stream",
     "text": [
      "[CV] END hidden_layer_sizes=(256, 128), learning_rate_init=0.0001; total time=  51.8s\n",
      "[CV] END hidden_layer_sizes=(256, 128), learning_rate_init=0.0001; total time=  46.5s\n",
      "[CV] END hidden_layer_sizes=(256, 128), learning_rate_init=0.0001; total time=  53.7s\n",
      "[CV] END hidden_layer_sizes=(256, 128), learning_rate_init=0.001; total time=   8.2s\n",
      "[CV] END hidden_layer_sizes=(256, 128), learning_rate_init=0.001; total time=  10.8s\n",
      "[CV] END hidden_layer_sizes=(256, 128), learning_rate_init=0.001; total time=   8.3s\n",
      "[CV] END hidden_layer_sizes=(256, 128), learning_rate_init=0.001; total time=  12.6s\n",
      "[CV] END hidden_layer_sizes=(256, 128), learning_rate_init=0.001; total time=   8.7s\n",
      "[CV] END hidden_layer_sizes=(256, 128), learning_rate_init=0.01; total time=   3.5s\n",
      "[CV] END hidden_layer_sizes=(256, 128), learning_rate_init=0.01; total time=   6.2s\n",
      "[CV] END hidden_layer_sizes=(256, 128), learning_rate_init=0.01; total time=   3.5s\n",
      "[CV] END hidden_layer_sizes=(256, 128), learning_rate_init=0.01; total time=   2.6s\n",
      "[CV] END hidden_layer_sizes=(256, 128), learning_rate_init=0.01; total time=   4.4s\n"
     ]
    },
    {
     "name": "stderr",
     "output_type": "stream",
     "text": [
      "d:\\Conestoga\\CSCN8000-AIAM\\CSCN8000\\venvCSCN8000\\Lib\\site-packages\\sklearn\\neural_network\\_multilayer_perceptron.py:690: ConvergenceWarning: Stochastic Optimizer: Maximum iterations (1000) reached and the optimization hasn't converged yet.\n",
      "  warnings.warn(\n"
     ]
    },
    {
     "name": "stdout",
     "output_type": "stream",
     "text": [
      "[CV] END hidden_layer_sizes=(64, 64), learning_rate_init=0.0001; total time=  14.8s\n"
     ]
    },
    {
     "name": "stderr",
     "output_type": "stream",
     "text": [
      "d:\\Conestoga\\CSCN8000-AIAM\\CSCN8000\\venvCSCN8000\\Lib\\site-packages\\sklearn\\neural_network\\_multilayer_perceptron.py:690: ConvergenceWarning: Stochastic Optimizer: Maximum iterations (1000) reached and the optimization hasn't converged yet.\n",
      "  warnings.warn(\n"
     ]
    },
    {
     "name": "stdout",
     "output_type": "stream",
     "text": [
      "[CV] END hidden_layer_sizes=(64, 64), learning_rate_init=0.0001; total time=  28.7s\n"
     ]
    },
    {
     "name": "stderr",
     "output_type": "stream",
     "text": [
      "d:\\Conestoga\\CSCN8000-AIAM\\CSCN8000\\venvCSCN8000\\Lib\\site-packages\\sklearn\\neural_network\\_multilayer_perceptron.py:690: ConvergenceWarning: Stochastic Optimizer: Maximum iterations (1000) reached and the optimization hasn't converged yet.\n",
      "  warnings.warn(\n"
     ]
    },
    {
     "name": "stdout",
     "output_type": "stream",
     "text": [
      "[CV] END hidden_layer_sizes=(64, 64), learning_rate_init=0.0001; total time=  14.1s\n"
     ]
    },
    {
     "name": "stderr",
     "output_type": "stream",
     "text": [
      "d:\\Conestoga\\CSCN8000-AIAM\\CSCN8000\\venvCSCN8000\\Lib\\site-packages\\sklearn\\neural_network\\_multilayer_perceptron.py:690: ConvergenceWarning: Stochastic Optimizer: Maximum iterations (1000) reached and the optimization hasn't converged yet.\n",
      "  warnings.warn(\n"
     ]
    },
    {
     "name": "stdout",
     "output_type": "stream",
     "text": [
      "[CV] END hidden_layer_sizes=(64, 64), learning_rate_init=0.0001; total time=  13.5s\n"
     ]
    },
    {
     "name": "stderr",
     "output_type": "stream",
     "text": [
      "d:\\Conestoga\\CSCN8000-AIAM\\CSCN8000\\venvCSCN8000\\Lib\\site-packages\\sklearn\\neural_network\\_multilayer_perceptron.py:690: ConvergenceWarning: Stochastic Optimizer: Maximum iterations (1000) reached and the optimization hasn't converged yet.\n",
      "  warnings.warn(\n"
     ]
    },
    {
     "name": "stdout",
     "output_type": "stream",
     "text": [
      "[CV] END hidden_layer_sizes=(64, 64), learning_rate_init=0.0001; total time=  13.9s\n",
      "[CV] END hidden_layer_sizes=(64, 64), learning_rate_init=0.001; total time=  12.2s\n",
      "[CV] END hidden_layer_sizes=(64, 64), learning_rate_init=0.001; total time=  13.2s\n",
      "[CV] END hidden_layer_sizes=(64, 64), learning_rate_init=0.001; total time=   4.8s\n",
      "[CV] END hidden_layer_sizes=(64, 64), learning_rate_init=0.001; total time=   4.5s\n",
      "[CV] END hidden_layer_sizes=(64, 64), learning_rate_init=0.001; total time=   9.1s\n",
      "[CV] END hidden_layer_sizes=(64, 64), learning_rate_init=0.01; total time=   2.6s\n",
      "[CV] END hidden_layer_sizes=(64, 64), learning_rate_init=0.01; total time=   2.6s\n",
      "[CV] END hidden_layer_sizes=(64, 64), learning_rate_init=0.01; total time=   2.3s\n",
      "[CV] END hidden_layer_sizes=(64, 64), learning_rate_init=0.01; total time=   2.6s\n",
      "[CV] END hidden_layer_sizes=(64, 64), learning_rate_init=0.01; total time=   1.1s\n"
     ]
    },
    {
     "name": "stderr",
     "output_type": "stream",
     "text": [
      "d:\\Conestoga\\CSCN8000-AIAM\\CSCN8000\\venvCSCN8000\\Lib\\site-packages\\sklearn\\neural_network\\_multilayer_perceptron.py:690: ConvergenceWarning: Stochastic Optimizer: Maximum iterations (1000) reached and the optimization hasn't converged yet.\n",
      "  warnings.warn(\n"
     ]
    },
    {
     "name": "stdout",
     "output_type": "stream",
     "text": [
      "[CV] END hidden_layer_sizes=(128, 128), learning_rate_init=0.0001; total time=  36.3s\n"
     ]
    },
    {
     "name": "stderr",
     "output_type": "stream",
     "text": [
      "d:\\Conestoga\\CSCN8000-AIAM\\CSCN8000\\venvCSCN8000\\Lib\\site-packages\\sklearn\\neural_network\\_multilayer_perceptron.py:690: ConvergenceWarning: Stochastic Optimizer: Maximum iterations (1000) reached and the optimization hasn't converged yet.\n",
      "  warnings.warn(\n"
     ]
    },
    {
     "name": "stdout",
     "output_type": "stream",
     "text": [
      "[CV] END hidden_layer_sizes=(128, 128), learning_rate_init=0.0001; total time=  35.9s\n"
     ]
    },
    {
     "name": "stderr",
     "output_type": "stream",
     "text": [
      "d:\\Conestoga\\CSCN8000-AIAM\\CSCN8000\\venvCSCN8000\\Lib\\site-packages\\sklearn\\neural_network\\_multilayer_perceptron.py:690: ConvergenceWarning: Stochastic Optimizer: Maximum iterations (1000) reached and the optimization hasn't converged yet.\n",
      "  warnings.warn(\n"
     ]
    },
    {
     "name": "stdout",
     "output_type": "stream",
     "text": [
      "[CV] END hidden_layer_sizes=(128, 128), learning_rate_init=0.0001; total time=  39.1s\n"
     ]
    },
    {
     "name": "stderr",
     "output_type": "stream",
     "text": [
      "d:\\Conestoga\\CSCN8000-AIAM\\CSCN8000\\venvCSCN8000\\Lib\\site-packages\\sklearn\\neural_network\\_multilayer_perceptron.py:690: ConvergenceWarning: Stochastic Optimizer: Maximum iterations (1000) reached and the optimization hasn't converged yet.\n",
      "  warnings.warn(\n"
     ]
    },
    {
     "name": "stdout",
     "output_type": "stream",
     "text": [
      "[CV] END hidden_layer_sizes=(128, 128), learning_rate_init=0.0001; total time= 1.3min\n"
     ]
    },
    {
     "name": "stderr",
     "output_type": "stream",
     "text": [
      "d:\\Conestoga\\CSCN8000-AIAM\\CSCN8000\\venvCSCN8000\\Lib\\site-packages\\sklearn\\neural_network\\_multilayer_perceptron.py:690: ConvergenceWarning: Stochastic Optimizer: Maximum iterations (1000) reached and the optimization hasn't converged yet.\n",
      "  warnings.warn(\n"
     ]
    },
    {
     "name": "stdout",
     "output_type": "stream",
     "text": [
      "[CV] END hidden_layer_sizes=(128, 128), learning_rate_init=0.0001; total time= 1.4min\n",
      "[CV] END hidden_layer_sizes=(128, 128), learning_rate_init=0.001; total time=  15.4s\n",
      "[CV] END hidden_layer_sizes=(128, 128), learning_rate_init=0.001; total time=  15.9s\n",
      "[CV] END hidden_layer_sizes=(128, 128), learning_rate_init=0.001; total time=  16.8s\n",
      "[CV] END hidden_layer_sizes=(128, 128), learning_rate_init=0.001; total time=   9.7s\n",
      "[CV] END hidden_layer_sizes=(128, 128), learning_rate_init=0.001; total time=   8.7s\n",
      "[CV] END hidden_layer_sizes=(128, 128), learning_rate_init=0.01; total time=   2.5s\n",
      "[CV] END hidden_layer_sizes=(128, 128), learning_rate_init=0.01; total time=   3.8s\n",
      "[CV] END hidden_layer_sizes=(128, 128), learning_rate_init=0.01; total time=   2.3s\n",
      "[CV] END hidden_layer_sizes=(128, 128), learning_rate_init=0.01; total time=   3.1s\n",
      "[CV] END hidden_layer_sizes=(128, 128), learning_rate_init=0.01; total time=   1.8s\n",
      "[CV] END hidden_layer_sizes=(256, 256), learning_rate_init=0.0001; total time=  59.5s\n",
      "[CV] END hidden_layer_sizes=(256, 256), learning_rate_init=0.0001; total time= 1.8min\n",
      "[CV] END hidden_layer_sizes=(256, 256), learning_rate_init=0.0001; total time= 2.0min\n",
      "[CV] END hidden_layer_sizes=(256, 256), learning_rate_init=0.0001; total time=  50.2s\n",
      "[CV] END hidden_layer_sizes=(256, 256), learning_rate_init=0.0001; total time=  55.9s\n",
      "[CV] END hidden_layer_sizes=(256, 256), learning_rate_init=0.001; total time=  11.6s\n",
      "[CV] END hidden_layer_sizes=(256, 256), learning_rate_init=0.001; total time=  10.3s\n",
      "[CV] END hidden_layer_sizes=(256, 256), learning_rate_init=0.001; total time=  14.8s\n",
      "[CV] END hidden_layer_sizes=(256, 256), learning_rate_init=0.001; total time=  11.6s\n",
      "[CV] END hidden_layer_sizes=(256, 256), learning_rate_init=0.001; total time=  13.4s\n",
      "[CV] END hidden_layer_sizes=(256, 256), learning_rate_init=0.01; total time=   4.1s\n",
      "[CV] END hidden_layer_sizes=(256, 256), learning_rate_init=0.01; total time=   3.4s\n",
      "[CV] END hidden_layer_sizes=(256, 256), learning_rate_init=0.01; total time=   3.2s\n",
      "[CV] END hidden_layer_sizes=(256, 256), learning_rate_init=0.01; total time=   6.0s\n",
      "[CV] END hidden_layer_sizes=(256, 256), learning_rate_init=0.01; total time=   6.4s\n"
     ]
    },
    {
     "name": "stderr",
     "output_type": "stream",
     "text": [
      "d:\\Conestoga\\CSCN8000-AIAM\\CSCN8000\\venvCSCN8000\\Lib\\site-packages\\sklearn\\neural_network\\_multilayer_perceptron.py:690: ConvergenceWarning: Stochastic Optimizer: Maximum iterations (1000) reached and the optimization hasn't converged yet.\n",
      "  warnings.warn(\n"
     ]
    },
    {
     "name": "stdout",
     "output_type": "stream",
     "text": [
      "[CV] END hidden_layer_sizes=(64, 64, 32), learning_rate_init=0.0001; total time=  17.3s\n"
     ]
    },
    {
     "name": "stderr",
     "output_type": "stream",
     "text": [
      "d:\\Conestoga\\CSCN8000-AIAM\\CSCN8000\\venvCSCN8000\\Lib\\site-packages\\sklearn\\neural_network\\_multilayer_perceptron.py:690: ConvergenceWarning: Stochastic Optimizer: Maximum iterations (1000) reached and the optimization hasn't converged yet.\n",
      "  warnings.warn(\n"
     ]
    },
    {
     "name": "stdout",
     "output_type": "stream",
     "text": [
      "[CV] END hidden_layer_sizes=(64, 64, 32), learning_rate_init=0.0001; total time=  19.2s\n"
     ]
    },
    {
     "name": "stderr",
     "output_type": "stream",
     "text": [
      "d:\\Conestoga\\CSCN8000-AIAM\\CSCN8000\\venvCSCN8000\\Lib\\site-packages\\sklearn\\neural_network\\_multilayer_perceptron.py:690: ConvergenceWarning: Stochastic Optimizer: Maximum iterations (1000) reached and the optimization hasn't converged yet.\n",
      "  warnings.warn(\n"
     ]
    },
    {
     "name": "stdout",
     "output_type": "stream",
     "text": [
      "[CV] END hidden_layer_sizes=(64, 64, 32), learning_rate_init=0.0001; total time=  17.0s\n"
     ]
    },
    {
     "name": "stderr",
     "output_type": "stream",
     "text": [
      "d:\\Conestoga\\CSCN8000-AIAM\\CSCN8000\\venvCSCN8000\\Lib\\site-packages\\sklearn\\neural_network\\_multilayer_perceptron.py:690: ConvergenceWarning: Stochastic Optimizer: Maximum iterations (1000) reached and the optimization hasn't converged yet.\n",
      "  warnings.warn(\n"
     ]
    },
    {
     "name": "stdout",
     "output_type": "stream",
     "text": [
      "[CV] END hidden_layer_sizes=(64, 64, 32), learning_rate_init=0.0001; total time=  17.8s\n"
     ]
    },
    {
     "name": "stderr",
     "output_type": "stream",
     "text": [
      "d:\\Conestoga\\CSCN8000-AIAM\\CSCN8000\\venvCSCN8000\\Lib\\site-packages\\sklearn\\neural_network\\_multilayer_perceptron.py:690: ConvergenceWarning: Stochastic Optimizer: Maximum iterations (1000) reached and the optimization hasn't converged yet.\n",
      "  warnings.warn(\n"
     ]
    },
    {
     "name": "stdout",
     "output_type": "stream",
     "text": [
      "[CV] END hidden_layer_sizes=(64, 64, 32), learning_rate_init=0.0001; total time=  17.4s\n",
      "[CV] END hidden_layer_sizes=(64, 64, 32), learning_rate_init=0.001; total time=   2.9s\n",
      "[CV] END hidden_layer_sizes=(64, 64, 32), learning_rate_init=0.001; total time=   3.0s\n",
      "[CV] END hidden_layer_sizes=(64, 64, 32), learning_rate_init=0.001; total time=   2.5s\n",
      "[CV] END hidden_layer_sizes=(64, 64, 32), learning_rate_init=0.001; total time=   2.8s\n",
      "[CV] END hidden_layer_sizes=(64, 64, 32), learning_rate_init=0.001; total time=   2.1s\n",
      "[CV] END hidden_layer_sizes=(64, 64, 32), learning_rate_init=0.01; total time=   1.4s\n",
      "[CV] END hidden_layer_sizes=(64, 64, 32), learning_rate_init=0.01; total time=   1.0s\n",
      "[CV] END hidden_layer_sizes=(64, 64, 32), learning_rate_init=0.01; total time=   1.3s\n",
      "[CV] END hidden_layer_sizes=(64, 64, 32), learning_rate_init=0.01; total time=   1.3s\n",
      "[CV] END hidden_layer_sizes=(64, 64, 32), learning_rate_init=0.01; total time=   0.9s\n",
      "[CV] END hidden_layer_sizes=(128, 64, 32), learning_rate_init=0.0001; total time=  23.4s\n",
      "[CV] END hidden_layer_sizes=(128, 64, 32), learning_rate_init=0.0001; total time=  23.5s\n",
      "[CV] END hidden_layer_sizes=(128, 64, 32), learning_rate_init=0.0001; total time=  22.3s\n",
      "[CV] END hidden_layer_sizes=(128, 64, 32), learning_rate_init=0.0001; total time=  57.6s\n",
      "[CV] END hidden_layer_sizes=(128, 64, 32), learning_rate_init=0.0001; total time= 1.2min\n",
      "[CV] END hidden_layer_sizes=(128, 64, 32), learning_rate_init=0.001; total time=  12.2s\n",
      "[CV] END hidden_layer_sizes=(128, 64, 32), learning_rate_init=0.001; total time=   7.8s\n",
      "[CV] END hidden_layer_sizes=(128, 64, 32), learning_rate_init=0.001; total time=   3.3s\n",
      "[CV] END hidden_layer_sizes=(128, 64, 32), learning_rate_init=0.001; total time=   3.9s\n",
      "[CV] END hidden_layer_sizes=(128, 64, 32), learning_rate_init=0.001; total time=   3.7s\n",
      "[CV] END hidden_layer_sizes=(128, 64, 32), learning_rate_init=0.01; total time=   1.5s\n",
      "[CV] END hidden_layer_sizes=(128, 64, 32), learning_rate_init=0.01; total time=   2.7s\n",
      "[CV] END hidden_layer_sizes=(128, 64, 32), learning_rate_init=0.01; total time=   2.3s\n",
      "[CV] END hidden_layer_sizes=(128, 64, 32), learning_rate_init=0.01; total time=   1.6s\n",
      "[CV] END hidden_layer_sizes=(128, 64, 32), learning_rate_init=0.01; total time=   1.9s\n"
     ]
    },
    {
     "data": {
      "text/html": [
       "<style>#sk-container-id-1 {\n",
       "  /* Definition of color scheme common for light and dark mode */\n",
       "  --sklearn-color-text: black;\n",
       "  --sklearn-color-line: gray;\n",
       "  /* Definition of color scheme for unfitted estimators */\n",
       "  --sklearn-color-unfitted-level-0: #fff5e6;\n",
       "  --sklearn-color-unfitted-level-1: #f6e4d2;\n",
       "  --sklearn-color-unfitted-level-2: #ffe0b3;\n",
       "  --sklearn-color-unfitted-level-3: chocolate;\n",
       "  /* Definition of color scheme for fitted estimators */\n",
       "  --sklearn-color-fitted-level-0: #f0f8ff;\n",
       "  --sklearn-color-fitted-level-1: #d4ebff;\n",
       "  --sklearn-color-fitted-level-2: #b3dbfd;\n",
       "  --sklearn-color-fitted-level-3: cornflowerblue;\n",
       "\n",
       "  /* Specific color for light theme */\n",
       "  --sklearn-color-text-on-default-background: var(--sg-text-color, var(--theme-code-foreground, var(--jp-content-font-color1, black)));\n",
       "  --sklearn-color-background: var(--sg-background-color, var(--theme-background, var(--jp-layout-color0, white)));\n",
       "  --sklearn-color-border-box: var(--sg-text-color, var(--theme-code-foreground, var(--jp-content-font-color1, black)));\n",
       "  --sklearn-color-icon: #696969;\n",
       "\n",
       "  @media (prefers-color-scheme: dark) {\n",
       "    /* Redefinition of color scheme for dark theme */\n",
       "    --sklearn-color-text-on-default-background: var(--sg-text-color, var(--theme-code-foreground, var(--jp-content-font-color1, white)));\n",
       "    --sklearn-color-background: var(--sg-background-color, var(--theme-background, var(--jp-layout-color0, #111)));\n",
       "    --sklearn-color-border-box: var(--sg-text-color, var(--theme-code-foreground, var(--jp-content-font-color1, white)));\n",
       "    --sklearn-color-icon: #878787;\n",
       "  }\n",
       "}\n",
       "\n",
       "#sk-container-id-1 {\n",
       "  color: var(--sklearn-color-text);\n",
       "}\n",
       "\n",
       "#sk-container-id-1 pre {\n",
       "  padding: 0;\n",
       "}\n",
       "\n",
       "#sk-container-id-1 input.sk-hidden--visually {\n",
       "  border: 0;\n",
       "  clip: rect(1px 1px 1px 1px);\n",
       "  clip: rect(1px, 1px, 1px, 1px);\n",
       "  height: 1px;\n",
       "  margin: -1px;\n",
       "  overflow: hidden;\n",
       "  padding: 0;\n",
       "  position: absolute;\n",
       "  width: 1px;\n",
       "}\n",
       "\n",
       "#sk-container-id-1 div.sk-dashed-wrapped {\n",
       "  border: 1px dashed var(--sklearn-color-line);\n",
       "  margin: 0 0.4em 0.5em 0.4em;\n",
       "  box-sizing: border-box;\n",
       "  padding-bottom: 0.4em;\n",
       "  background-color: var(--sklearn-color-background);\n",
       "}\n",
       "\n",
       "#sk-container-id-1 div.sk-container {\n",
       "  /* jupyter's `normalize.less` sets `[hidden] { display: none; }`\n",
       "     but bootstrap.min.css set `[hidden] { display: none !important; }`\n",
       "     so we also need the `!important` here to be able to override the\n",
       "     default hidden behavior on the sphinx rendered scikit-learn.org.\n",
       "     See: https://github.com/scikit-learn/scikit-learn/issues/21755 */\n",
       "  display: inline-block !important;\n",
       "  position: relative;\n",
       "}\n",
       "\n",
       "#sk-container-id-1 div.sk-text-repr-fallback {\n",
       "  display: none;\n",
       "}\n",
       "\n",
       "div.sk-parallel-item,\n",
       "div.sk-serial,\n",
       "div.sk-item {\n",
       "  /* draw centered vertical line to link estimators */\n",
       "  background-image: linear-gradient(var(--sklearn-color-text-on-default-background), var(--sklearn-color-text-on-default-background));\n",
       "  background-size: 2px 100%;\n",
       "  background-repeat: no-repeat;\n",
       "  background-position: center center;\n",
       "}\n",
       "\n",
       "/* Parallel-specific style estimator block */\n",
       "\n",
       "#sk-container-id-1 div.sk-parallel-item::after {\n",
       "  content: \"\";\n",
       "  width: 100%;\n",
       "  border-bottom: 2px solid var(--sklearn-color-text-on-default-background);\n",
       "  flex-grow: 1;\n",
       "}\n",
       "\n",
       "#sk-container-id-1 div.sk-parallel {\n",
       "  display: flex;\n",
       "  align-items: stretch;\n",
       "  justify-content: center;\n",
       "  background-color: var(--sklearn-color-background);\n",
       "  position: relative;\n",
       "}\n",
       "\n",
       "#sk-container-id-1 div.sk-parallel-item {\n",
       "  display: flex;\n",
       "  flex-direction: column;\n",
       "}\n",
       "\n",
       "#sk-container-id-1 div.sk-parallel-item:first-child::after {\n",
       "  align-self: flex-end;\n",
       "  width: 50%;\n",
       "}\n",
       "\n",
       "#sk-container-id-1 div.sk-parallel-item:last-child::after {\n",
       "  align-self: flex-start;\n",
       "  width: 50%;\n",
       "}\n",
       "\n",
       "#sk-container-id-1 div.sk-parallel-item:only-child::after {\n",
       "  width: 0;\n",
       "}\n",
       "\n",
       "/* Serial-specific style estimator block */\n",
       "\n",
       "#sk-container-id-1 div.sk-serial {\n",
       "  display: flex;\n",
       "  flex-direction: column;\n",
       "  align-items: center;\n",
       "  background-color: var(--sklearn-color-background);\n",
       "  padding-right: 1em;\n",
       "  padding-left: 1em;\n",
       "}\n",
       "\n",
       "\n",
       "/* Toggleable style: style used for estimator/Pipeline/ColumnTransformer box that is\n",
       "clickable and can be expanded/collapsed.\n",
       "- Pipeline and ColumnTransformer use this feature and define the default style\n",
       "- Estimators will overwrite some part of the style using the `sk-estimator` class\n",
       "*/\n",
       "\n",
       "/* Pipeline and ColumnTransformer style (default) */\n",
       "\n",
       "#sk-container-id-1 div.sk-toggleable {\n",
       "  /* Default theme specific background. It is overwritten whether we have a\n",
       "  specific estimator or a Pipeline/ColumnTransformer */\n",
       "  background-color: var(--sklearn-color-background);\n",
       "}\n",
       "\n",
       "/* Toggleable label */\n",
       "#sk-container-id-1 label.sk-toggleable__label {\n",
       "  cursor: pointer;\n",
       "  display: block;\n",
       "  width: 100%;\n",
       "  margin-bottom: 0;\n",
       "  padding: 0.5em;\n",
       "  box-sizing: border-box;\n",
       "  text-align: center;\n",
       "}\n",
       "\n",
       "#sk-container-id-1 label.sk-toggleable__label-arrow:before {\n",
       "  /* Arrow on the left of the label */\n",
       "  content: \"▸\";\n",
       "  float: left;\n",
       "  margin-right: 0.25em;\n",
       "  color: var(--sklearn-color-icon);\n",
       "}\n",
       "\n",
       "#sk-container-id-1 label.sk-toggleable__label-arrow:hover:before {\n",
       "  color: var(--sklearn-color-text);\n",
       "}\n",
       "\n",
       "/* Toggleable content - dropdown */\n",
       "\n",
       "#sk-container-id-1 div.sk-toggleable__content {\n",
       "  max-height: 0;\n",
       "  max-width: 0;\n",
       "  overflow: hidden;\n",
       "  text-align: left;\n",
       "  /* unfitted */\n",
       "  background-color: var(--sklearn-color-unfitted-level-0);\n",
       "}\n",
       "\n",
       "#sk-container-id-1 div.sk-toggleable__content.fitted {\n",
       "  /* fitted */\n",
       "  background-color: var(--sklearn-color-fitted-level-0);\n",
       "}\n",
       "\n",
       "#sk-container-id-1 div.sk-toggleable__content pre {\n",
       "  margin: 0.2em;\n",
       "  border-radius: 0.25em;\n",
       "  color: var(--sklearn-color-text);\n",
       "  /* unfitted */\n",
       "  background-color: var(--sklearn-color-unfitted-level-0);\n",
       "}\n",
       "\n",
       "#sk-container-id-1 div.sk-toggleable__content.fitted pre {\n",
       "  /* unfitted */\n",
       "  background-color: var(--sklearn-color-fitted-level-0);\n",
       "}\n",
       "\n",
       "#sk-container-id-1 input.sk-toggleable__control:checked~div.sk-toggleable__content {\n",
       "  /* Expand drop-down */\n",
       "  max-height: 200px;\n",
       "  max-width: 100%;\n",
       "  overflow: auto;\n",
       "}\n",
       "\n",
       "#sk-container-id-1 input.sk-toggleable__control:checked~label.sk-toggleable__label-arrow:before {\n",
       "  content: \"▾\";\n",
       "}\n",
       "\n",
       "/* Pipeline/ColumnTransformer-specific style */\n",
       "\n",
       "#sk-container-id-1 div.sk-label input.sk-toggleable__control:checked~label.sk-toggleable__label {\n",
       "  color: var(--sklearn-color-text);\n",
       "  background-color: var(--sklearn-color-unfitted-level-2);\n",
       "}\n",
       "\n",
       "#sk-container-id-1 div.sk-label.fitted input.sk-toggleable__control:checked~label.sk-toggleable__label {\n",
       "  background-color: var(--sklearn-color-fitted-level-2);\n",
       "}\n",
       "\n",
       "/* Estimator-specific style */\n",
       "\n",
       "/* Colorize estimator box */\n",
       "#sk-container-id-1 div.sk-estimator input.sk-toggleable__control:checked~label.sk-toggleable__label {\n",
       "  /* unfitted */\n",
       "  background-color: var(--sklearn-color-unfitted-level-2);\n",
       "}\n",
       "\n",
       "#sk-container-id-1 div.sk-estimator.fitted input.sk-toggleable__control:checked~label.sk-toggleable__label {\n",
       "  /* fitted */\n",
       "  background-color: var(--sklearn-color-fitted-level-2);\n",
       "}\n",
       "\n",
       "#sk-container-id-1 div.sk-label label.sk-toggleable__label,\n",
       "#sk-container-id-1 div.sk-label label {\n",
       "  /* The background is the default theme color */\n",
       "  color: var(--sklearn-color-text-on-default-background);\n",
       "}\n",
       "\n",
       "/* On hover, darken the color of the background */\n",
       "#sk-container-id-1 div.sk-label:hover label.sk-toggleable__label {\n",
       "  color: var(--sklearn-color-text);\n",
       "  background-color: var(--sklearn-color-unfitted-level-2);\n",
       "}\n",
       "\n",
       "/* Label box, darken color on hover, fitted */\n",
       "#sk-container-id-1 div.sk-label.fitted:hover label.sk-toggleable__label.fitted {\n",
       "  color: var(--sklearn-color-text);\n",
       "  background-color: var(--sklearn-color-fitted-level-2);\n",
       "}\n",
       "\n",
       "/* Estimator label */\n",
       "\n",
       "#sk-container-id-1 div.sk-label label {\n",
       "  font-family: monospace;\n",
       "  font-weight: bold;\n",
       "  display: inline-block;\n",
       "  line-height: 1.2em;\n",
       "}\n",
       "\n",
       "#sk-container-id-1 div.sk-label-container {\n",
       "  text-align: center;\n",
       "}\n",
       "\n",
       "/* Estimator-specific */\n",
       "#sk-container-id-1 div.sk-estimator {\n",
       "  font-family: monospace;\n",
       "  border: 1px dotted var(--sklearn-color-border-box);\n",
       "  border-radius: 0.25em;\n",
       "  box-sizing: border-box;\n",
       "  margin-bottom: 0.5em;\n",
       "  /* unfitted */\n",
       "  background-color: var(--sklearn-color-unfitted-level-0);\n",
       "}\n",
       "\n",
       "#sk-container-id-1 div.sk-estimator.fitted {\n",
       "  /* fitted */\n",
       "  background-color: var(--sklearn-color-fitted-level-0);\n",
       "}\n",
       "\n",
       "/* on hover */\n",
       "#sk-container-id-1 div.sk-estimator:hover {\n",
       "  /* unfitted */\n",
       "  background-color: var(--sklearn-color-unfitted-level-2);\n",
       "}\n",
       "\n",
       "#sk-container-id-1 div.sk-estimator.fitted:hover {\n",
       "  /* fitted */\n",
       "  background-color: var(--sklearn-color-fitted-level-2);\n",
       "}\n",
       "\n",
       "/* Specification for estimator info (e.g. \"i\" and \"?\") */\n",
       "\n",
       "/* Common style for \"i\" and \"?\" */\n",
       "\n",
       ".sk-estimator-doc-link,\n",
       "a:link.sk-estimator-doc-link,\n",
       "a:visited.sk-estimator-doc-link {\n",
       "  float: right;\n",
       "  font-size: smaller;\n",
       "  line-height: 1em;\n",
       "  font-family: monospace;\n",
       "  background-color: var(--sklearn-color-background);\n",
       "  border-radius: 1em;\n",
       "  height: 1em;\n",
       "  width: 1em;\n",
       "  text-decoration: none !important;\n",
       "  margin-left: 1ex;\n",
       "  /* unfitted */\n",
       "  border: var(--sklearn-color-unfitted-level-1) 1pt solid;\n",
       "  color: var(--sklearn-color-unfitted-level-1);\n",
       "}\n",
       "\n",
       ".sk-estimator-doc-link.fitted,\n",
       "a:link.sk-estimator-doc-link.fitted,\n",
       "a:visited.sk-estimator-doc-link.fitted {\n",
       "  /* fitted */\n",
       "  border: var(--sklearn-color-fitted-level-1) 1pt solid;\n",
       "  color: var(--sklearn-color-fitted-level-1);\n",
       "}\n",
       "\n",
       "/* On hover */\n",
       "div.sk-estimator:hover .sk-estimator-doc-link:hover,\n",
       ".sk-estimator-doc-link:hover,\n",
       "div.sk-label-container:hover .sk-estimator-doc-link:hover,\n",
       ".sk-estimator-doc-link:hover {\n",
       "  /* unfitted */\n",
       "  background-color: var(--sklearn-color-unfitted-level-3);\n",
       "  color: var(--sklearn-color-background);\n",
       "  text-decoration: none;\n",
       "}\n",
       "\n",
       "div.sk-estimator.fitted:hover .sk-estimator-doc-link.fitted:hover,\n",
       ".sk-estimator-doc-link.fitted:hover,\n",
       "div.sk-label-container:hover .sk-estimator-doc-link.fitted:hover,\n",
       ".sk-estimator-doc-link.fitted:hover {\n",
       "  /* fitted */\n",
       "  background-color: var(--sklearn-color-fitted-level-3);\n",
       "  color: var(--sklearn-color-background);\n",
       "  text-decoration: none;\n",
       "}\n",
       "\n",
       "/* Span, style for the box shown on hovering the info icon */\n",
       ".sk-estimator-doc-link span {\n",
       "  display: none;\n",
       "  z-index: 9999;\n",
       "  position: relative;\n",
       "  font-weight: normal;\n",
       "  right: .2ex;\n",
       "  padding: .5ex;\n",
       "  margin: .5ex;\n",
       "  width: min-content;\n",
       "  min-width: 20ex;\n",
       "  max-width: 50ex;\n",
       "  color: var(--sklearn-color-text);\n",
       "  box-shadow: 2pt 2pt 4pt #999;\n",
       "  /* unfitted */\n",
       "  background: var(--sklearn-color-unfitted-level-0);\n",
       "  border: .5pt solid var(--sklearn-color-unfitted-level-3);\n",
       "}\n",
       "\n",
       ".sk-estimator-doc-link.fitted span {\n",
       "  /* fitted */\n",
       "  background: var(--sklearn-color-fitted-level-0);\n",
       "  border: var(--sklearn-color-fitted-level-3);\n",
       "}\n",
       "\n",
       ".sk-estimator-doc-link:hover span {\n",
       "  display: block;\n",
       "}\n",
       "\n",
       "/* \"?\"-specific style due to the `<a>` HTML tag */\n",
       "\n",
       "#sk-container-id-1 a.estimator_doc_link {\n",
       "  float: right;\n",
       "  font-size: 1rem;\n",
       "  line-height: 1em;\n",
       "  font-family: monospace;\n",
       "  background-color: var(--sklearn-color-background);\n",
       "  border-radius: 1rem;\n",
       "  height: 1rem;\n",
       "  width: 1rem;\n",
       "  text-decoration: none;\n",
       "  /* unfitted */\n",
       "  color: var(--sklearn-color-unfitted-level-1);\n",
       "  border: var(--sklearn-color-unfitted-level-1) 1pt solid;\n",
       "}\n",
       "\n",
       "#sk-container-id-1 a.estimator_doc_link.fitted {\n",
       "  /* fitted */\n",
       "  border: var(--sklearn-color-fitted-level-1) 1pt solid;\n",
       "  color: var(--sklearn-color-fitted-level-1);\n",
       "}\n",
       "\n",
       "/* On hover */\n",
       "#sk-container-id-1 a.estimator_doc_link:hover {\n",
       "  /* unfitted */\n",
       "  background-color: var(--sklearn-color-unfitted-level-3);\n",
       "  color: var(--sklearn-color-background);\n",
       "  text-decoration: none;\n",
       "}\n",
       "\n",
       "#sk-container-id-1 a.estimator_doc_link.fitted:hover {\n",
       "  /* fitted */\n",
       "  background-color: var(--sklearn-color-fitted-level-3);\n",
       "}\n",
       "</style><div id=\"sk-container-id-1\" class=\"sk-top-container\"><div class=\"sk-text-repr-fallback\"><pre>GridSearchCV(cv=5, estimator=MLPClassifier(max_iter=1000, random_state=42),\n",
       "             param_grid={&#x27;hidden_layer_sizes&#x27;: [(32,), (64,), (128,), (64, 32),\n",
       "                                                (128, 64), (256, 128), (64, 64),\n",
       "                                                (128, 128), (256, 256),\n",
       "                                                (64, 64, 32), (128, 64, 32)],\n",
       "                         &#x27;learning_rate_init&#x27;: [0.0001, 0.001, 0.01]},\n",
       "             scoring=&#x27;accuracy&#x27;, verbose=2)</pre><b>In a Jupyter environment, please rerun this cell to show the HTML representation or trust the notebook. <br />On GitHub, the HTML representation is unable to render, please try loading this page with nbviewer.org.</b></div><div class=\"sk-container\" hidden><div class=\"sk-item sk-dashed-wrapped\"><div class=\"sk-label-container\"><div class=\"sk-label fitted sk-toggleable\"><input class=\"sk-toggleable__control sk-hidden--visually\" id=\"sk-estimator-id-1\" type=\"checkbox\" ><label for=\"sk-estimator-id-1\" class=\"sk-toggleable__label fitted sk-toggleable__label-arrow fitted\">&nbsp;&nbsp;GridSearchCV<a class=\"sk-estimator-doc-link fitted\" rel=\"noreferrer\" target=\"_blank\" href=\"https://scikit-learn.org/1.5/modules/generated/sklearn.model_selection.GridSearchCV.html\">?<span>Documentation for GridSearchCV</span></a><span class=\"sk-estimator-doc-link fitted\">i<span>Fitted</span></span></label><div class=\"sk-toggleable__content fitted\"><pre>GridSearchCV(cv=5, estimator=MLPClassifier(max_iter=1000, random_state=42),\n",
       "             param_grid={&#x27;hidden_layer_sizes&#x27;: [(32,), (64,), (128,), (64, 32),\n",
       "                                                (128, 64), (256, 128), (64, 64),\n",
       "                                                (128, 128), (256, 256),\n",
       "                                                (64, 64, 32), (128, 64, 32)],\n",
       "                         &#x27;learning_rate_init&#x27;: [0.0001, 0.001, 0.01]},\n",
       "             scoring=&#x27;accuracy&#x27;, verbose=2)</pre></div> </div></div><div class=\"sk-parallel\"><div class=\"sk-parallel-item\"><div class=\"sk-item\"><div class=\"sk-label-container\"><div class=\"sk-label fitted sk-toggleable\"><input class=\"sk-toggleable__control sk-hidden--visually\" id=\"sk-estimator-id-2\" type=\"checkbox\" ><label for=\"sk-estimator-id-2\" class=\"sk-toggleable__label fitted sk-toggleable__label-arrow fitted\">best_estimator_: MLPClassifier</label><div class=\"sk-toggleable__content fitted\"><pre>MLPClassifier(hidden_layer_sizes=(64,), learning_rate_init=0.0001,\n",
       "              max_iter=1000, random_state=42)</pre></div> </div></div><div class=\"sk-serial\"><div class=\"sk-item\"><div class=\"sk-estimator fitted sk-toggleable\"><input class=\"sk-toggleable__control sk-hidden--visually\" id=\"sk-estimator-id-3\" type=\"checkbox\" ><label for=\"sk-estimator-id-3\" class=\"sk-toggleable__label fitted sk-toggleable__label-arrow fitted\">&nbsp;MLPClassifier<a class=\"sk-estimator-doc-link fitted\" rel=\"noreferrer\" target=\"_blank\" href=\"https://scikit-learn.org/1.5/modules/generated/sklearn.neural_network.MLPClassifier.html\">?<span>Documentation for MLPClassifier</span></a></label><div class=\"sk-toggleable__content fitted\"><pre>MLPClassifier(hidden_layer_sizes=(64,), learning_rate_init=0.0001,\n",
       "              max_iter=1000, random_state=42)</pre></div> </div></div></div></div></div></div></div></div></div>"
      ],
      "text/plain": [
       "GridSearchCV(cv=5, estimator=MLPClassifier(max_iter=1000, random_state=42),\n",
       "             param_grid={'hidden_layer_sizes': [(32,), (64,), (128,), (64, 32),\n",
       "                                                (128, 64), (256, 128), (64, 64),\n",
       "                                                (128, 128), (256, 256),\n",
       "                                                (64, 64, 32), (128, 64, 32)],\n",
       "                         'learning_rate_init': [0.0001, 0.001, 0.01]},\n",
       "             scoring='accuracy', verbose=2)"
      ]
     },
     "execution_count": 14,
     "metadata": {},
     "output_type": "execute_result"
    }
   ],
   "source": [
    "grid_search.fit(X_train_scaled, y_train)"
   ]
  },
  {
   "cell_type": "markdown",
   "metadata": {},
   "source": [
    "##### 3. Comment on the best parameters found in step 2"
   ]
  },
  {
   "cell_type": "code",
   "execution_count": 15,
   "metadata": {},
   "outputs": [
    {
     "name": "stdout",
     "output_type": "stream",
     "text": [
      "Best Hyperparameters: {'hidden_layer_sizes': (64,), 'learning_rate_init': 0.0001}\n"
     ]
    }
   ],
   "source": [
    "#  best hyperparameters\n",
    "print(f\"Best Hyperparameters: {grid_search.best_params_}\")"
   ]
  },
  {
   "cell_type": "markdown",
   "metadata": {},
   "source": [
    "***hidden_layer_sizes: (64,)***\n",
    "<br>\n",
    "<br>\n",
    "- This indicates that the best model has a single hidden layer with 64 neurons.\n",
    "- A single hidden layer suggests that the data's patterns and relationships can be modeled effectively without requiring multiple layers of abstraction.\n",
    "<br>\n",
    "<br>\n",
    "\n",
    "***learning_rate_init: 0.0001***\n",
    "<br>\n",
    "<br>\n",
    "- This is a relatively small learning rate, meaning the model updates its weights cautiously during training.\n",
    "- A smaller learning rate ensures stable convergence, especially in datasets with noisy or complex patterns."
   ]
  },
  {
   "cell_type": "markdown",
   "metadata": {},
   "source": [
    "##### 4.Evaluate the top-performing model from step 2 on the test set and report their F1-Score."
   ]
  },
  {
   "cell_type": "code",
   "execution_count": 16,
   "metadata": {},
   "outputs": [
    {
     "name": "stdout",
     "output_type": "stream",
     "text": [
      "Validation Accuracy: 0.9393346379647749\n"
     ]
    }
   ],
   "source": [
    "# Evaluate on the validation set\n",
    "best_model = grid_search.best_estimator_\n",
    "val_accuracy = best_model.score(X_test_scaled, y_test)\n",
    "print(f\"Validation Accuracy: {val_accuracy}\")"
   ]
  },
  {
   "cell_type": "code",
   "execution_count": 19,
   "metadata": {},
   "outputs": [
    {
     "name": "stdout",
     "output_type": "stream",
     "text": [
      "F1-Score on Test Set: 0.9100\n",
      "\n",
      "Classification Report:\n",
      "              precision    recall  f1-score   support\n",
      "\n",
      "           0       0.94      1.00      0.97       960\n",
      "           1       0.00      0.00      0.00        62\n",
      "\n",
      "    accuracy                           0.94      1022\n",
      "   macro avg       0.47      0.50      0.48      1022\n",
      "weighted avg       0.88      0.94      0.91      1022\n",
      "\n"
     ]
    },
    {
     "name": "stderr",
     "output_type": "stream",
     "text": [
      "d:\\Conestoga\\CSCN8000-AIAM\\CSCN8000\\venvCSCN8000\\Lib\\site-packages\\sklearn\\metrics\\_classification.py:1531: UndefinedMetricWarning: Precision is ill-defined and being set to 0.0 in labels with no predicted samples. Use `zero_division` parameter to control this behavior.\n",
      "  _warn_prf(average, modifier, f\"{metric.capitalize()} is\", len(result))\n",
      "d:\\Conestoga\\CSCN8000-AIAM\\CSCN8000\\venvCSCN8000\\Lib\\site-packages\\sklearn\\metrics\\_classification.py:1531: UndefinedMetricWarning: Precision is ill-defined and being set to 0.0 in labels with no predicted samples. Use `zero_division` parameter to control this behavior.\n",
      "  _warn_prf(average, modifier, f\"{metric.capitalize()} is\", len(result))\n",
      "d:\\Conestoga\\CSCN8000-AIAM\\CSCN8000\\venvCSCN8000\\Lib\\site-packages\\sklearn\\metrics\\_classification.py:1531: UndefinedMetricWarning: Precision is ill-defined and being set to 0.0 in labels with no predicted samples. Use `zero_division` parameter to control this behavior.\n",
      "  _warn_prf(average, modifier, f\"{metric.capitalize()} is\", len(result))\n"
     ]
    }
   ],
   "source": [
    "X_test_scaled = scaler.transform(X_test)\n",
    "y_test_pred = best_model.predict(X_test_scaled)\n",
    "# Calculate F1-Score\n",
    "f1 = f1_score(y_test, y_test_pred, average='weighted')  # Use 'weighted' for multiclass; 'binary' for binary classification\n",
    "print(f\"F1-Score on Test Set: {f1:.4f}\")\n",
    "\n",
    "print(\"\\nClassification Report:\")\n",
    "print(classification_report(y_test, y_test_pred))\n"
   ]
  },
  {
   "cell_type": "markdown",
   "metadata": {},
   "source": [
    "##### 5. Carry out PCA to reduce the dimensions of the dataset to a smaller size, then draw the scree plot and determine the optimal number of new dimensions."
   ]
  },
  {
   "cell_type": "code",
   "execution_count": 20,
   "metadata": {},
   "outputs": [
    {
     "data": {
      "image/png": "[encoded data removed]",
      "text/plain": [
       "<Figure size 800x600 with 1 Axes>"
      ]
     },
     "metadata": {},
     "output_type": "display_data"
    },
    {
     "name": "stdout",
     "output_type": "stream",
     "text": [
      "Optimal number of dimensions: 11\n"
     ]
    }
   ],
   "source": [
    "X_scaled = scaler.transform(X)\n",
    "# Perform PCA\n",
    "pca = PCA()\n",
    "X_pca = pca.fit_transform(X_scaled)\n",
    "\n",
    "# Calculate explained variance ratio\n",
    "explained_variance_ratio = pca.explained_variance_ratio_\n",
    "cumulative_variance_ratio = np.cumsum(explained_variance_ratio)\n",
    "\n",
    "# Scree Plot\n",
    "plt.figure(figsize=(8, 6))\n",
    "plt.plot(range(1, len(explained_variance_ratio) + 1), explained_variance_ratio, 'o-', label=\"Explained Variance\")\n",
    "plt.plot(range(1, len(cumulative_variance_ratio) + 1), cumulative_variance_ratio, 'o-', label=\"Cumulative Variance\")\n",
    "plt.axhline(y=0.9, color='r', linestyle='--', label=\"90% Variance Threshold\")\n",
    "plt.xlabel('Number of Principal Components')\n",
    "plt.ylabel('Variance Ratio')\n",
    "plt.title('Scree Plot')\n",
    "plt.legend(loc='best')\n",
    "plt.grid()\n",
    "plt.show()\n",
    "\n",
    "# Determine optimal number of components\n",
    "optimal_components = np.argmax(cumulative_variance_ratio >= 0.9) + 1\n",
    "print(f\"Optimal number of dimensions: {optimal_components}\")"
   ]
  },
  {
   "cell_type": "markdown",
   "metadata": {},
   "source": [
    "##### Apply PCA on dataset"
   ]
  },
  {
   "cell_type": "code",
   "execution_count": 21,
   "metadata": {},
   "outputs": [
    {
     "name": "stdout",
     "output_type": "stream",
     "text": [
      "Shape of data after PCA: (4088, 11)\n"
     ]
    }
   ],
   "source": [
    "optimal_pca = PCA(n_components=optimal_components)\n",
    "X_train_pca = optimal_pca.fit_transform(X_train_scaled)\n",
    "X_val_pca = optimal_pca.transform(X_test_scaled)\n",
    "X_test_pca = optimal_pca.transform(X_test_scaled)\n",
    "\n",
    "print(f\"Shape of data after PCA: {X_train_pca.shape}\")"
   ]
  },
  {
   "cell_type": "markdown",
   "metadata": {},
   "source": [
    "##### 6. Repeat step 2 and 4 again with the new dataset after dimensionality reduction with the optimal number of dimensions."
   ]
  },
  {
   "cell_type": "code",
   "execution_count": 22,
   "metadata": {},
   "outputs": [
    {
     "name": "stdout",
     "output_type": "stream",
     "text": [
      "Fitting 5 folds for each of 30 candidates, totalling 150 fits\n",
      "[CV] END hidden_layer_sizes=(32,), learning_rate_init=0.0001; total time=   1.7s\n",
      "[CV] END hidden_layer_sizes=(32,), learning_rate_init=0.0001; total time=   1.7s\n",
      "[CV] END hidden_layer_sizes=(32,), learning_rate_init=0.0001; total time=   1.3s\n",
      "[CV] END hidden_layer_sizes=(32,), learning_rate_init=0.0001; total time=   1.3s\n",
      "[CV] END hidden_layer_sizes=(32,), learning_rate_init=0.0001; total time=   1.5s\n"
     ]
    },
    {
     "name": "stderr",
     "output_type": "stream",
     "text": [
      "d:\\Conestoga\\CSCN8000-AIAM\\CSCN8000\\venvCSCN8000\\Lib\\site-packages\\sklearn\\neural_network\\_multilayer_perceptron.py:690: ConvergenceWarning: Stochastic Optimizer: Maximum iterations (500) reached and the optimization hasn't converged yet.\n",
      "  warnings.warn(\n"
     ]
    },
    {
     "name": "stdout",
     "output_type": "stream",
     "text": [
      "[CV] END .hidden_layer_sizes=(32,), learning_rate_init=0.001; total time=   2.5s\n"
     ]
    },
    {
     "name": "stderr",
     "output_type": "stream",
     "text": [
      "d:\\Conestoga\\CSCN8000-AIAM\\CSCN8000\\venvCSCN8000\\Lib\\site-packages\\sklearn\\neural_network\\_multilayer_perceptron.py:690: ConvergenceWarning: Stochastic Optimizer: Maximum iterations (500) reached and the optimization hasn't converged yet.\n",
      "  warnings.warn(\n"
     ]
    },
    {
     "name": "stdout",
     "output_type": "stream",
     "text": [
      "[CV] END .hidden_layer_sizes=(32,), learning_rate_init=0.001; total time=   2.6s\n"
     ]
    },
    {
     "name": "stderr",
     "output_type": "stream",
     "text": [
      "d:\\Conestoga\\CSCN8000-AIAM\\CSCN8000\\venvCSCN8000\\Lib\\site-packages\\sklearn\\neural_network\\_multilayer_perceptron.py:690: ConvergenceWarning: Stochastic Optimizer: Maximum iterations (500) reached and the optimization hasn't converged yet.\n",
      "  warnings.warn(\n"
     ]
    },
    {
     "name": "stdout",
     "output_type": "stream",
     "text": [
      "[CV] END .hidden_layer_sizes=(32,), learning_rate_init=0.001; total time=   3.0s\n"
     ]
    },
    {
     "name": "stderr",
     "output_type": "stream",
     "text": [
      "d:\\Conestoga\\CSCN8000-AIAM\\CSCN8000\\venvCSCN8000\\Lib\\site-packages\\sklearn\\neural_network\\_multilayer_perceptron.py:690: ConvergenceWarning: Stochastic Optimizer: Maximum iterations (500) reached and the optimization hasn't converged yet.\n",
      "  warnings.warn(\n"
     ]
    },
    {
     "name": "stdout",
     "output_type": "stream",
     "text": [
      "[CV] END .hidden_layer_sizes=(32,), learning_rate_init=0.001; total time=   2.7s\n"
     ]
    },
    {
     "name": "stderr",
     "output_type": "stream",
     "text": [
      "d:\\Conestoga\\CSCN8000-AIAM\\CSCN8000\\venvCSCN8000\\Lib\\site-packages\\sklearn\\neural_network\\_multilayer_perceptron.py:690: ConvergenceWarning: Stochastic Optimizer: Maximum iterations (500) reached and the optimization hasn't converged yet.\n",
      "  warnings.warn(\n"
     ]
    },
    {
     "name": "stdout",
     "output_type": "stream",
     "text": [
      "[CV] END .hidden_layer_sizes=(32,), learning_rate_init=0.001; total time=   2.8s\n",
      "[CV] END ..hidden_layer_sizes=(32,), learning_rate_init=0.01; total time=   0.7s\n",
      "[CV] END ..hidden_layer_sizes=(32,), learning_rate_init=0.01; total time=   0.6s\n",
      "[CV] END ..hidden_layer_sizes=(32,), learning_rate_init=0.01; total time=   0.6s\n",
      "[CV] END ..hidden_layer_sizes=(32,), learning_rate_init=0.01; total time=   0.7s\n",
      "[CV] END ..hidden_layer_sizes=(32,), learning_rate_init=0.01; total time=   0.8s\n",
      "[CV] END hidden_layer_sizes=(64,), learning_rate_init=0.0001; total time=   1.3s\n",
      "[CV] END hidden_layer_sizes=(64,), learning_rate_init=0.0001; total time=   1.5s\n",
      "[CV] END hidden_layer_sizes=(64,), learning_rate_init=0.0001; total time=   1.6s\n",
      "[CV] END hidden_layer_sizes=(64,), learning_rate_init=0.0001; total time=   1.2s\n",
      "[CV] END hidden_layer_sizes=(64,), learning_rate_init=0.0001; total time=   4.0s\n"
     ]
    },
    {
     "name": "stderr",
     "output_type": "stream",
     "text": [
      "d:\\Conestoga\\CSCN8000-AIAM\\CSCN8000\\venvCSCN8000\\Lib\\site-packages\\sklearn\\neural_network\\_multilayer_perceptron.py:690: ConvergenceWarning: Stochastic Optimizer: Maximum iterations (500) reached and the optimization hasn't converged yet.\n",
      "  warnings.warn(\n"
     ]
    },
    {
     "name": "stdout",
     "output_type": "stream",
     "text": [
      "[CV] END .hidden_layer_sizes=(64,), learning_rate_init=0.001; total time=   7.5s\n"
     ]
    },
    {
     "name": "stderr",
     "output_type": "stream",
     "text": [
      "d:\\Conestoga\\CSCN8000-AIAM\\CSCN8000\\venvCSCN8000\\Lib\\site-packages\\sklearn\\neural_network\\_multilayer_perceptron.py:690: ConvergenceWarning: Stochastic Optimizer: Maximum iterations (500) reached and the optimization hasn't converged yet.\n",
      "  warnings.warn(\n"
     ]
    },
    {
     "name": "stdout",
     "output_type": "stream",
     "text": [
      "[CV] END .hidden_layer_sizes=(64,), learning_rate_init=0.001; total time=   3.7s\n"
     ]
    },
    {
     "name": "stderr",
     "output_type": "stream",
     "text": [
      "d:\\Conestoga\\CSCN8000-AIAM\\CSCN8000\\venvCSCN8000\\Lib\\site-packages\\sklearn\\neural_network\\_multilayer_perceptron.py:690: ConvergenceWarning: Stochastic Optimizer: Maximum iterations (500) reached and the optimization hasn't converged yet.\n",
      "  warnings.warn(\n"
     ]
    },
    {
     "name": "stdout",
     "output_type": "stream",
     "text": [
      "[CV] END .hidden_layer_sizes=(64,), learning_rate_init=0.001; total time=   3.3s\n"
     ]
    },
    {
     "name": "stderr",
     "output_type": "stream",
     "text": [
      "d:\\Conestoga\\CSCN8000-AIAM\\CSCN8000\\venvCSCN8000\\Lib\\site-packages\\sklearn\\neural_network\\_multilayer_perceptron.py:690: ConvergenceWarning: Stochastic Optimizer: Maximum iterations (500) reached and the optimization hasn't converged yet.\n",
      "  warnings.warn(\n"
     ]
    },
    {
     "name": "stdout",
     "output_type": "stream",
     "text": [
      "[CV] END .hidden_layer_sizes=(64,), learning_rate_init=0.001; total time=   3.5s\n"
     ]
    },
    {
     "name": "stderr",
     "output_type": "stream",
     "text": [
      "d:\\Conestoga\\CSCN8000-AIAM\\CSCN8000\\venvCSCN8000\\Lib\\site-packages\\sklearn\\neural_network\\_multilayer_perceptron.py:690: ConvergenceWarning: Stochastic Optimizer: Maximum iterations (500) reached and the optimization hasn't converged yet.\n",
      "  warnings.warn(\n"
     ]
    },
    {
     "name": "stdout",
     "output_type": "stream",
     "text": [
      "[CV] END .hidden_layer_sizes=(64,), learning_rate_init=0.001; total time=   3.5s\n",
      "[CV] END ..hidden_layer_sizes=(64,), learning_rate_init=0.01; total time=   1.0s\n",
      "[CV] END ..hidden_layer_sizes=(64,), learning_rate_init=0.01; total time=   1.5s\n",
      "[CV] END ..hidden_layer_sizes=(64,), learning_rate_init=0.01; total time=   1.9s\n",
      "[CV] END ..hidden_layer_sizes=(64,), learning_rate_init=0.01; total time=   1.0s\n",
      "[CV] END ..hidden_layer_sizes=(64,), learning_rate_init=0.01; total time=   1.2s\n",
      "[CV] END hidden_layer_sizes=(128,), learning_rate_init=0.0001; total time=   2.0s\n",
      "[CV] END hidden_layer_sizes=(128,), learning_rate_init=0.0001; total time=   1.7s\n",
      "[CV] END hidden_layer_sizes=(128,), learning_rate_init=0.0001; total time=   1.8s\n",
      "[CV] END hidden_layer_sizes=(128,), learning_rate_init=0.0001; total time=   1.5s\n",
      "[CV] END hidden_layer_sizes=(128,), learning_rate_init=0.0001; total time=   1.5s\n"
     ]
    },
    {
     "name": "stderr",
     "output_type": "stream",
     "text": [
      "d:\\Conestoga\\CSCN8000-AIAM\\CSCN8000\\venvCSCN8000\\Lib\\site-packages\\sklearn\\neural_network\\_multilayer_perceptron.py:690: ConvergenceWarning: Stochastic Optimizer: Maximum iterations (500) reached and the optimization hasn't converged yet.\n",
      "  warnings.warn(\n"
     ]
    },
    {
     "name": "stdout",
     "output_type": "stream",
     "text": [
      "[CV] END hidden_layer_sizes=(128,), learning_rate_init=0.001; total time=   4.8s\n"
     ]
    },
    {
     "name": "stderr",
     "output_type": "stream",
     "text": [
      "d:\\Conestoga\\CSCN8000-AIAM\\CSCN8000\\venvCSCN8000\\Lib\\site-packages\\sklearn\\neural_network\\_multilayer_perceptron.py:690: ConvergenceWarning: Stochastic Optimizer: Maximum iterations (500) reached and the optimization hasn't converged yet.\n",
      "  warnings.warn(\n"
     ]
    },
    {
     "name": "stdout",
     "output_type": "stream",
     "text": [
      "[CV] END hidden_layer_sizes=(128,), learning_rate_init=0.001; total time=   4.6s\n"
     ]
    },
    {
     "name": "stderr",
     "output_type": "stream",
     "text": [
      "d:\\Conestoga\\CSCN8000-AIAM\\CSCN8000\\venvCSCN8000\\Lib\\site-packages\\sklearn\\neural_network\\_multilayer_perceptron.py:690: ConvergenceWarning: Stochastic Optimizer: Maximum iterations (500) reached and the optimization hasn't converged yet.\n",
      "  warnings.warn(\n"
     ]
    },
    {
     "name": "stdout",
     "output_type": "stream",
     "text": [
      "[CV] END hidden_layer_sizes=(128,), learning_rate_init=0.001; total time=   5.2s\n"
     ]
    },
    {
     "name": "stderr",
     "output_type": "stream",
     "text": [
      "d:\\Conestoga\\CSCN8000-AIAM\\CSCN8000\\venvCSCN8000\\Lib\\site-packages\\sklearn\\neural_network\\_multilayer_perceptron.py:690: ConvergenceWarning: Stochastic Optimizer: Maximum iterations (500) reached and the optimization hasn't converged yet.\n",
      "  warnings.warn(\n"
     ]
    },
    {
     "name": "stdout",
     "output_type": "stream",
     "text": [
      "[CV] END hidden_layer_sizes=(128,), learning_rate_init=0.001; total time=   4.7s\n"
     ]
    },
    {
     "name": "stderr",
     "output_type": "stream",
     "text": [
      "d:\\Conestoga\\CSCN8000-AIAM\\CSCN8000\\venvCSCN8000\\Lib\\site-packages\\sklearn\\neural_network\\_multilayer_perceptron.py:690: ConvergenceWarning: Stochastic Optimizer: Maximum iterations (500) reached and the optimization hasn't converged yet.\n",
      "  warnings.warn(\n"
     ]
    },
    {
     "name": "stdout",
     "output_type": "stream",
     "text": [
      "[CV] END hidden_layer_sizes=(128,), learning_rate_init=0.001; total time=   4.6s\n",
      "[CV] END .hidden_layer_sizes=(128,), learning_rate_init=0.01; total time=   1.5s\n",
      "[CV] END .hidden_layer_sizes=(128,), learning_rate_init=0.01; total time=   1.6s\n",
      "[CV] END .hidden_layer_sizes=(128,), learning_rate_init=0.01; total time=   1.1s\n",
      "[CV] END .hidden_layer_sizes=(128,), learning_rate_init=0.01; total time=   1.4s\n",
      "[CV] END .hidden_layer_sizes=(128,), learning_rate_init=0.01; total time=   1.6s\n",
      "[CV] END hidden_layer_sizes=(64, 32), learning_rate_init=0.0001; total time=   1.9s\n",
      "[CV] END hidden_layer_sizes=(64, 32), learning_rate_init=0.0001; total time=   1.5s\n",
      "[CV] END hidden_layer_sizes=(64, 32), learning_rate_init=0.0001; total time=   1.4s\n",
      "[CV] END hidden_layer_sizes=(64, 32), learning_rate_init=0.0001; total time=   1.2s\n",
      "[CV] END hidden_layer_sizes=(64, 32), learning_rate_init=0.0001; total time=   1.5s\n",
      "[CV] END hidden_layer_sizes=(64, 32), learning_rate_init=0.001; total time=   4.1s\n",
      "[CV] END hidden_layer_sizes=(64, 32), learning_rate_init=0.001; total time=   3.9s\n"
     ]
    },
    {
     "name": "stderr",
     "output_type": "stream",
     "text": [
      "d:\\Conestoga\\CSCN8000-AIAM\\CSCN8000\\venvCSCN8000\\Lib\\site-packages\\sklearn\\neural_network\\_multilayer_perceptron.py:690: ConvergenceWarning: Stochastic Optimizer: Maximum iterations (500) reached and the optimization hasn't converged yet.\n",
      "  warnings.warn(\n"
     ]
    },
    {
     "name": "stdout",
     "output_type": "stream",
     "text": [
      "[CV] END hidden_layer_sizes=(64, 32), learning_rate_init=0.001; total time=   5.0s\n"
     ]
    },
    {
     "name": "stderr",
     "output_type": "stream",
     "text": [
      "d:\\Conestoga\\CSCN8000-AIAM\\CSCN8000\\venvCSCN8000\\Lib\\site-packages\\sklearn\\neural_network\\_multilayer_perceptron.py:690: ConvergenceWarning: Stochastic Optimizer: Maximum iterations (500) reached and the optimization hasn't converged yet.\n",
      "  warnings.warn(\n"
     ]
    },
    {
     "name": "stdout",
     "output_type": "stream",
     "text": [
      "[CV] END hidden_layer_sizes=(64, 32), learning_rate_init=0.001; total time=   5.5s\n",
      "[CV] END hidden_layer_sizes=(64, 32), learning_rate_init=0.001; total time=   4.6s\n",
      "[CV] END hidden_layer_sizes=(64, 32), learning_rate_init=0.01; total time=   1.0s\n",
      "[CV] END hidden_layer_sizes=(64, 32), learning_rate_init=0.01; total time=   0.9s\n",
      "[CV] END hidden_layer_sizes=(64, 32), learning_rate_init=0.01; total time=   1.1s\n",
      "[CV] END hidden_layer_sizes=(64, 32), learning_rate_init=0.01; total time=   1.0s\n",
      "[CV] END hidden_layer_sizes=(64, 32), learning_rate_init=0.01; total time=   1.0s\n"
     ]
    },
    {
     "name": "stderr",
     "output_type": "stream",
     "text": [
      "d:\\Conestoga\\CSCN8000-AIAM\\CSCN8000\\venvCSCN8000\\Lib\\site-packages\\sklearn\\neural_network\\_multilayer_perceptron.py:690: ConvergenceWarning: Stochastic Optimizer: Maximum iterations (500) reached and the optimization hasn't converged yet.\n",
      "  warnings.warn(\n"
     ]
    },
    {
     "name": "stdout",
     "output_type": "stream",
     "text": [
      "[CV] END hidden_layer_sizes=(128, 64), learning_rate_init=0.0001; total time=  13.3s\n"
     ]
    },
    {
     "name": "stderr",
     "output_type": "stream",
     "text": [
      "d:\\Conestoga\\CSCN8000-AIAM\\CSCN8000\\venvCSCN8000\\Lib\\site-packages\\sklearn\\neural_network\\_multilayer_perceptron.py:690: ConvergenceWarning: Stochastic Optimizer: Maximum iterations (500) reached and the optimization hasn't converged yet.\n",
      "  warnings.warn(\n"
     ]
    },
    {
     "name": "stdout",
     "output_type": "stream",
     "text": [
      "[CV] END hidden_layer_sizes=(128, 64), learning_rate_init=0.0001; total time=  12.7s\n"
     ]
    },
    {
     "name": "stderr",
     "output_type": "stream",
     "text": [
      "d:\\Conestoga\\CSCN8000-AIAM\\CSCN8000\\venvCSCN8000\\Lib\\site-packages\\sklearn\\neural_network\\_multilayer_perceptron.py:690: ConvergenceWarning: Stochastic Optimizer: Maximum iterations (500) reached and the optimization hasn't converged yet.\n",
      "  warnings.warn(\n"
     ]
    },
    {
     "name": "stdout",
     "output_type": "stream",
     "text": [
      "[CV] END hidden_layer_sizes=(128, 64), learning_rate_init=0.0001; total time=  12.4s\n"
     ]
    },
    {
     "name": "stderr",
     "output_type": "stream",
     "text": [
      "d:\\Conestoga\\CSCN8000-AIAM\\CSCN8000\\venvCSCN8000\\Lib\\site-packages\\sklearn\\neural_network\\_multilayer_perceptron.py:690: ConvergenceWarning: Stochastic Optimizer: Maximum iterations (500) reached and the optimization hasn't converged yet.\n",
      "  warnings.warn(\n"
     ]
    },
    {
     "name": "stdout",
     "output_type": "stream",
     "text": [
      "[CV] END hidden_layer_sizes=(128, 64), learning_rate_init=0.0001; total time=  14.7s\n"
     ]
    },
    {
     "name": "stderr",
     "output_type": "stream",
     "text": [
      "d:\\Conestoga\\CSCN8000-AIAM\\CSCN8000\\venvCSCN8000\\Lib\\site-packages\\sklearn\\neural_network\\_multilayer_perceptron.py:690: ConvergenceWarning: Stochastic Optimizer: Maximum iterations (500) reached and the optimization hasn't converged yet.\n",
      "  warnings.warn(\n"
     ]
    },
    {
     "name": "stdout",
     "output_type": "stream",
     "text": [
      "[CV] END hidden_layer_sizes=(128, 64), learning_rate_init=0.0001; total time=  14.6s\n",
      "[CV] END hidden_layer_sizes=(128, 64), learning_rate_init=0.001; total time=   8.8s\n",
      "[CV] END hidden_layer_sizes=(128, 64), learning_rate_init=0.001; total time=   9.5s\n",
      "[CV] END hidden_layer_sizes=(128, 64), learning_rate_init=0.001; total time=   9.3s\n",
      "[CV] END hidden_layer_sizes=(128, 64), learning_rate_init=0.001; total time=  11.8s\n",
      "[CV] END hidden_layer_sizes=(128, 64), learning_rate_init=0.001; total time=  10.9s\n",
      "[CV] END hidden_layer_sizes=(128, 64), learning_rate_init=0.01; total time=   2.2s\n",
      "[CV] END hidden_layer_sizes=(128, 64), learning_rate_init=0.01; total time=   3.0s\n",
      "[CV] END hidden_layer_sizes=(128, 64), learning_rate_init=0.01; total time=   2.6s\n",
      "[CV] END hidden_layer_sizes=(128, 64), learning_rate_init=0.01; total time=   2.8s\n",
      "[CV] END hidden_layer_sizes=(128, 64), learning_rate_init=0.01; total time=   3.0s\n"
     ]
    },
    {
     "name": "stderr",
     "output_type": "stream",
     "text": [
      "d:\\Conestoga\\CSCN8000-AIAM\\CSCN8000\\venvCSCN8000\\Lib\\site-packages\\sklearn\\neural_network\\_multilayer_perceptron.py:690: ConvergenceWarning: Stochastic Optimizer: Maximum iterations (500) reached and the optimization hasn't converged yet.\n",
      "  warnings.warn(\n"
     ]
    },
    {
     "name": "stdout",
     "output_type": "stream",
     "text": [
      "[CV] END hidden_layer_sizes=(256, 128), learning_rate_init=0.0001; total time=  24.6s\n"
     ]
    },
    {
     "name": "stderr",
     "output_type": "stream",
     "text": [
      "d:\\Conestoga\\CSCN8000-AIAM\\CSCN8000\\venvCSCN8000\\Lib\\site-packages\\sklearn\\neural_network\\_multilayer_perceptron.py:690: ConvergenceWarning: Stochastic Optimizer: Maximum iterations (500) reached and the optimization hasn't converged yet.\n",
      "  warnings.warn(\n"
     ]
    },
    {
     "name": "stdout",
     "output_type": "stream",
     "text": [
      "[CV] END hidden_layer_sizes=(256, 128), learning_rate_init=0.0001; total time=  26.3s\n"
     ]
    },
    {
     "name": "stderr",
     "output_type": "stream",
     "text": [
      "d:\\Conestoga\\CSCN8000-AIAM\\CSCN8000\\venvCSCN8000\\Lib\\site-packages\\sklearn\\neural_network\\_multilayer_perceptron.py:690: ConvergenceWarning: Stochastic Optimizer: Maximum iterations (500) reached and the optimization hasn't converged yet.\n",
      "  warnings.warn(\n"
     ]
    },
    {
     "name": "stdout",
     "output_type": "stream",
     "text": [
      "[CV] END hidden_layer_sizes=(256, 128), learning_rate_init=0.0001; total time=  29.8s\n"
     ]
    },
    {
     "name": "stderr",
     "output_type": "stream",
     "text": [
      "d:\\Conestoga\\CSCN8000-AIAM\\CSCN8000\\venvCSCN8000\\Lib\\site-packages\\sklearn\\neural_network\\_multilayer_perceptron.py:690: ConvergenceWarning: Stochastic Optimizer: Maximum iterations (500) reached and the optimization hasn't converged yet.\n",
      "  warnings.warn(\n"
     ]
    },
    {
     "name": "stdout",
     "output_type": "stream",
     "text": [
      "[CV] END hidden_layer_sizes=(256, 128), learning_rate_init=0.0001; total time=  28.4s\n"
     ]
    },
    {
     "name": "stderr",
     "output_type": "stream",
     "text": [
      "d:\\Conestoga\\CSCN8000-AIAM\\CSCN8000\\venvCSCN8000\\Lib\\site-packages\\sklearn\\neural_network\\_multilayer_perceptron.py:690: ConvergenceWarning: Stochastic Optimizer: Maximum iterations (500) reached and the optimization hasn't converged yet.\n",
      "  warnings.warn(\n"
     ]
    },
    {
     "name": "stdout",
     "output_type": "stream",
     "text": [
      "[CV] END hidden_layer_sizes=(256, 128), learning_rate_init=0.0001; total time=  27.9s\n",
      "[CV] END hidden_layer_sizes=(256, 128), learning_rate_init=0.001; total time=  10.6s\n",
      "[CV] END hidden_layer_sizes=(256, 128), learning_rate_init=0.001; total time=  11.6s\n",
      "[CV] END hidden_layer_sizes=(256, 128), learning_rate_init=0.001; total time=  10.3s\n",
      "[CV] END hidden_layer_sizes=(256, 128), learning_rate_init=0.001; total time=   7.9s\n",
      "[CV] END hidden_layer_sizes=(256, 128), learning_rate_init=0.001; total time=  12.6s\n",
      "[CV] END hidden_layer_sizes=(256, 128), learning_rate_init=0.01; total time=   4.5s\n",
      "[CV] END hidden_layer_sizes=(256, 128), learning_rate_init=0.01; total time=   5.6s\n",
      "[CV] END hidden_layer_sizes=(256, 128), learning_rate_init=0.01; total time=   5.2s\n",
      "[CV] END hidden_layer_sizes=(256, 128), learning_rate_init=0.01; total time=   6.1s\n",
      "[CV] END hidden_layer_sizes=(256, 128), learning_rate_init=0.01; total time=   5.0s\n",
      "[CV] END hidden_layer_sizes=(64, 64), learning_rate_init=0.0001; total time=   3.2s\n"
     ]
    },
    {
     "name": "stderr",
     "output_type": "stream",
     "text": [
      "d:\\Conestoga\\CSCN8000-AIAM\\CSCN8000\\venvCSCN8000\\Lib\\site-packages\\sklearn\\neural_network\\_multilayer_perceptron.py:690: ConvergenceWarning: Stochastic Optimizer: Maximum iterations (500) reached and the optimization hasn't converged yet.\n",
      "  warnings.warn(\n"
     ]
    },
    {
     "name": "stdout",
     "output_type": "stream",
     "text": [
      "[CV] END hidden_layer_sizes=(64, 64), learning_rate_init=0.0001; total time=   7.0s\n",
      "[CV] END hidden_layer_sizes=(64, 64), learning_rate_init=0.0001; total time=   2.7s\n"
     ]
    },
    {
     "name": "stderr",
     "output_type": "stream",
     "text": [
      "d:\\Conestoga\\CSCN8000-AIAM\\CSCN8000\\venvCSCN8000\\Lib\\site-packages\\sklearn\\neural_network\\_multilayer_perceptron.py:690: ConvergenceWarning: Stochastic Optimizer: Maximum iterations (500) reached and the optimization hasn't converged yet.\n",
      "  warnings.warn(\n"
     ]
    },
    {
     "name": "stdout",
     "output_type": "stream",
     "text": [
      "[CV] END hidden_layer_sizes=(64, 64), learning_rate_init=0.0001; total time=   6.8s\n",
      "[CV] END hidden_layer_sizes=(64, 64), learning_rate_init=0.0001; total time=   2.5s\n"
     ]
    },
    {
     "name": "stderr",
     "output_type": "stream",
     "text": [
      "d:\\Conestoga\\CSCN8000-AIAM\\CSCN8000\\venvCSCN8000\\Lib\\site-packages\\sklearn\\neural_network\\_multilayer_perceptron.py:690: ConvergenceWarning: Stochastic Optimizer: Maximum iterations (500) reached and the optimization hasn't converged yet.\n",
      "  warnings.warn(\n"
     ]
    },
    {
     "name": "stdout",
     "output_type": "stream",
     "text": [
      "[CV] END hidden_layer_sizes=(64, 64), learning_rate_init=0.001; total time=   6.8s\n",
      "[CV] END hidden_layer_sizes=(64, 64), learning_rate_init=0.001; total time=   5.1s\n",
      "[CV] END hidden_layer_sizes=(64, 64), learning_rate_init=0.001; total time=   6.5s\n",
      "[CV] END hidden_layer_sizes=(64, 64), learning_rate_init=0.001; total time=   5.7s\n",
      "[CV] END hidden_layer_sizes=(64, 64), learning_rate_init=0.001; total time=   6.9s\n",
      "[CV] END hidden_layer_sizes=(64, 64), learning_rate_init=0.01; total time=   2.1s\n",
      "[CV] END hidden_layer_sizes=(64, 64), learning_rate_init=0.01; total time=   1.9s\n",
      "[CV] END hidden_layer_sizes=(64, 64), learning_rate_init=0.01; total time=   1.2s\n",
      "[CV] END hidden_layer_sizes=(64, 64), learning_rate_init=0.01; total time=   1.9s\n",
      "[CV] END hidden_layer_sizes=(64, 64), learning_rate_init=0.01; total time=   1.4s\n"
     ]
    },
    {
     "name": "stderr",
     "output_type": "stream",
     "text": [
      "d:\\Conestoga\\CSCN8000-AIAM\\CSCN8000\\venvCSCN8000\\Lib\\site-packages\\sklearn\\neural_network\\_multilayer_perceptron.py:690: ConvergenceWarning: Stochastic Optimizer: Maximum iterations (500) reached and the optimization hasn't converged yet.\n",
      "  warnings.warn(\n"
     ]
    },
    {
     "name": "stdout",
     "output_type": "stream",
     "text": [
      "[CV] END hidden_layer_sizes=(128, 128), learning_rate_init=0.0001; total time=  26.5s\n"
     ]
    },
    {
     "name": "stderr",
     "output_type": "stream",
     "text": [
      "d:\\Conestoga\\CSCN8000-AIAM\\CSCN8000\\venvCSCN8000\\Lib\\site-packages\\sklearn\\neural_network\\_multilayer_perceptron.py:690: ConvergenceWarning: Stochastic Optimizer: Maximum iterations (500) reached and the optimization hasn't converged yet.\n",
      "  warnings.warn(\n"
     ]
    },
    {
     "name": "stdout",
     "output_type": "stream",
     "text": [
      "[CV] END hidden_layer_sizes=(128, 128), learning_rate_init=0.0001; total time=  18.3s\n"
     ]
    },
    {
     "name": "stderr",
     "output_type": "stream",
     "text": [
      "d:\\Conestoga\\CSCN8000-AIAM\\CSCN8000\\venvCSCN8000\\Lib\\site-packages\\sklearn\\neural_network\\_multilayer_perceptron.py:690: ConvergenceWarning: Stochastic Optimizer: Maximum iterations (500) reached and the optimization hasn't converged yet.\n",
      "  warnings.warn(\n"
     ]
    },
    {
     "name": "stdout",
     "output_type": "stream",
     "text": [
      "[CV] END hidden_layer_sizes=(128, 128), learning_rate_init=0.0001; total time=  18.3s\n"
     ]
    },
    {
     "name": "stderr",
     "output_type": "stream",
     "text": [
      "d:\\Conestoga\\CSCN8000-AIAM\\CSCN8000\\venvCSCN8000\\Lib\\site-packages\\sklearn\\neural_network\\_multilayer_perceptron.py:690: ConvergenceWarning: Stochastic Optimizer: Maximum iterations (500) reached and the optimization hasn't converged yet.\n",
      "  warnings.warn(\n"
     ]
    },
    {
     "name": "stdout",
     "output_type": "stream",
     "text": [
      "[CV] END hidden_layer_sizes=(128, 128), learning_rate_init=0.0001; total time=  19.4s\n"
     ]
    },
    {
     "name": "stderr",
     "output_type": "stream",
     "text": [
      "d:\\Conestoga\\CSCN8000-AIAM\\CSCN8000\\venvCSCN8000\\Lib\\site-packages\\sklearn\\neural_network\\_multilayer_perceptron.py:690: ConvergenceWarning: Stochastic Optimizer: Maximum iterations (500) reached and the optimization hasn't converged yet.\n",
      "  warnings.warn(\n"
     ]
    },
    {
     "name": "stdout",
     "output_type": "stream",
     "text": [
      "[CV] END hidden_layer_sizes=(128, 128), learning_rate_init=0.0001; total time=  19.7s\n",
      "[CV] END hidden_layer_sizes=(128, 128), learning_rate_init=0.001; total time=  13.4s\n",
      "[CV] END hidden_layer_sizes=(128, 128), learning_rate_init=0.001; total time=   8.6s\n",
      "[CV] END hidden_layer_sizes=(128, 128), learning_rate_init=0.001; total time=   7.8s\n",
      "[CV] END hidden_layer_sizes=(128, 128), learning_rate_init=0.001; total time=   8.1s\n",
      "[CV] END hidden_layer_sizes=(128, 128), learning_rate_init=0.001; total time=   9.7s\n",
      "[CV] END hidden_layer_sizes=(128, 128), learning_rate_init=0.01; total time=   2.7s\n",
      "[CV] END hidden_layer_sizes=(128, 128), learning_rate_init=0.01; total time=   3.8s\n",
      "[CV] END hidden_layer_sizes=(128, 128), learning_rate_init=0.01; total time=   3.6s\n",
      "[CV] END hidden_layer_sizes=(128, 128), learning_rate_init=0.01; total time=   3.3s\n",
      "[CV] END hidden_layer_sizes=(128, 128), learning_rate_init=0.01; total time=   2.2s\n"
     ]
    },
    {
     "name": "stderr",
     "output_type": "stream",
     "text": [
      "d:\\Conestoga\\CSCN8000-AIAM\\CSCN8000\\venvCSCN8000\\Lib\\site-packages\\sklearn\\neural_network\\_multilayer_perceptron.py:690: ConvergenceWarning: Stochastic Optimizer: Maximum iterations (500) reached and the optimization hasn't converged yet.\n",
      "  warnings.warn(\n"
     ]
    },
    {
     "name": "stdout",
     "output_type": "stream",
     "text": [
      "[CV] END hidden_layer_sizes=(256, 256), learning_rate_init=0.0001; total time=  36.5s\n"
     ]
    },
    {
     "name": "stderr",
     "output_type": "stream",
     "text": [
      "d:\\Conestoga\\CSCN8000-AIAM\\CSCN8000\\venvCSCN8000\\Lib\\site-packages\\sklearn\\neural_network\\_multilayer_perceptron.py:690: ConvergenceWarning: Stochastic Optimizer: Maximum iterations (500) reached and the optimization hasn't converged yet.\n",
      "  warnings.warn(\n"
     ]
    },
    {
     "name": "stdout",
     "output_type": "stream",
     "text": [
      "[CV] END hidden_layer_sizes=(256, 256), learning_rate_init=0.0001; total time=  29.7s\n"
     ]
    },
    {
     "name": "stderr",
     "output_type": "stream",
     "text": [
      "d:\\Conestoga\\CSCN8000-AIAM\\CSCN8000\\venvCSCN8000\\Lib\\site-packages\\sklearn\\neural_network\\_multilayer_perceptron.py:690: ConvergenceWarning: Stochastic Optimizer: Maximum iterations (500) reached and the optimization hasn't converged yet.\n",
      "  warnings.warn(\n"
     ]
    },
    {
     "name": "stdout",
     "output_type": "stream",
     "text": [
      "[CV] END hidden_layer_sizes=(256, 256), learning_rate_init=0.0001; total time=  30.4s\n"
     ]
    },
    {
     "name": "stderr",
     "output_type": "stream",
     "text": [
      "d:\\Conestoga\\CSCN8000-AIAM\\CSCN8000\\venvCSCN8000\\Lib\\site-packages\\sklearn\\neural_network\\_multilayer_perceptron.py:690: ConvergenceWarning: Stochastic Optimizer: Maximum iterations (500) reached and the optimization hasn't converged yet.\n",
      "  warnings.warn(\n"
     ]
    },
    {
     "name": "stdout",
     "output_type": "stream",
     "text": [
      "[CV] END hidden_layer_sizes=(256, 256), learning_rate_init=0.0001; total time=  29.7s\n"
     ]
    },
    {
     "name": "stderr",
     "output_type": "stream",
     "text": [
      "d:\\Conestoga\\CSCN8000-AIAM\\CSCN8000\\venvCSCN8000\\Lib\\site-packages\\sklearn\\neural_network\\_multilayer_perceptron.py:690: ConvergenceWarning: Stochastic Optimizer: Maximum iterations (500) reached and the optimization hasn't converged yet.\n",
      "  warnings.warn(\n"
     ]
    },
    {
     "name": "stdout",
     "output_type": "stream",
     "text": [
      "[CV] END hidden_layer_sizes=(256, 256), learning_rate_init=0.0001; total time=  29.8s\n",
      "[CV] END hidden_layer_sizes=(256, 256), learning_rate_init=0.001; total time=  11.7s\n",
      "[CV] END hidden_layer_sizes=(256, 256), learning_rate_init=0.001; total time=  10.3s\n",
      "[CV] END hidden_layer_sizes=(256, 256), learning_rate_init=0.001; total time=  10.0s\n",
      "[CV] END hidden_layer_sizes=(256, 256), learning_rate_init=0.001; total time=  11.7s\n",
      "[CV] END hidden_layer_sizes=(256, 256), learning_rate_init=0.001; total time=  10.6s\n",
      "[CV] END hidden_layer_sizes=(256, 256), learning_rate_init=0.01; total time=   5.1s\n",
      "[CV] END hidden_layer_sizes=(256, 256), learning_rate_init=0.01; total time=   7.6s\n",
      "[CV] END hidden_layer_sizes=(256, 256), learning_rate_init=0.01; total time=   4.2s\n",
      "[CV] END hidden_layer_sizes=(256, 256), learning_rate_init=0.01; total time=   4.7s\n",
      "[CV] END hidden_layer_sizes=(256, 256), learning_rate_init=0.01; total time=   5.6s\n"
     ]
    },
    {
     "name": "stderr",
     "output_type": "stream",
     "text": [
      "d:\\Conestoga\\CSCN8000-AIAM\\CSCN8000\\venvCSCN8000\\Lib\\site-packages\\sklearn\\neural_network\\_multilayer_perceptron.py:690: ConvergenceWarning: Stochastic Optimizer: Maximum iterations (500) reached and the optimization hasn't converged yet.\n",
      "  warnings.warn(\n"
     ]
    },
    {
     "name": "stdout",
     "output_type": "stream",
     "text": [
      "[CV] END hidden_layer_sizes=(64, 64, 32), learning_rate_init=0.0001; total time=   8.1s\n"
     ]
    },
    {
     "name": "stderr",
     "output_type": "stream",
     "text": [
      "d:\\Conestoga\\CSCN8000-AIAM\\CSCN8000\\venvCSCN8000\\Lib\\site-packages\\sklearn\\neural_network\\_multilayer_perceptron.py:690: ConvergenceWarning: Stochastic Optimizer: Maximum iterations (500) reached and the optimization hasn't converged yet.\n",
      "  warnings.warn(\n"
     ]
    },
    {
     "name": "stdout",
     "output_type": "stream",
     "text": [
      "[CV] END hidden_layer_sizes=(64, 64, 32), learning_rate_init=0.0001; total time=   8.2s\n"
     ]
    },
    {
     "name": "stderr",
     "output_type": "stream",
     "text": [
      "d:\\Conestoga\\CSCN8000-AIAM\\CSCN8000\\venvCSCN8000\\Lib\\site-packages\\sklearn\\neural_network\\_multilayer_perceptron.py:690: ConvergenceWarning: Stochastic Optimizer: Maximum iterations (500) reached and the optimization hasn't converged yet.\n",
      "  warnings.warn(\n"
     ]
    },
    {
     "name": "stdout",
     "output_type": "stream",
     "text": [
      "[CV] END hidden_layer_sizes=(64, 64, 32), learning_rate_init=0.0001; total time=   8.2s\n"
     ]
    },
    {
     "name": "stderr",
     "output_type": "stream",
     "text": [
      "d:\\Conestoga\\CSCN8000-AIAM\\CSCN8000\\venvCSCN8000\\Lib\\site-packages\\sklearn\\neural_network\\_multilayer_perceptron.py:690: ConvergenceWarning: Stochastic Optimizer: Maximum iterations (500) reached and the optimization hasn't converged yet.\n",
      "  warnings.warn(\n"
     ]
    },
    {
     "name": "stdout",
     "output_type": "stream",
     "text": [
      "[CV] END hidden_layer_sizes=(64, 64, 32), learning_rate_init=0.0001; total time=   8.4s\n"
     ]
    },
    {
     "name": "stderr",
     "output_type": "stream",
     "text": [
      "d:\\Conestoga\\CSCN8000-AIAM\\CSCN8000\\venvCSCN8000\\Lib\\site-packages\\sklearn\\neural_network\\_multilayer_perceptron.py:690: ConvergenceWarning: Stochastic Optimizer: Maximum iterations (500) reached and the optimization hasn't converged yet.\n",
      "  warnings.warn(\n"
     ]
    },
    {
     "name": "stdout",
     "output_type": "stream",
     "text": [
      "[CV] END hidden_layer_sizes=(64, 64, 32), learning_rate_init=0.0001; total time=   8.1s\n",
      "[CV] END hidden_layer_sizes=(64, 64, 32), learning_rate_init=0.001; total time=   3.1s\n",
      "[CV] END hidden_layer_sizes=(64, 64, 32), learning_rate_init=0.001; total time=   2.9s\n",
      "[CV] END hidden_layer_sizes=(64, 64, 32), learning_rate_init=0.001; total time=   3.1s\n",
      "[CV] END hidden_layer_sizes=(64, 64, 32), learning_rate_init=0.001; total time=   3.4s\n",
      "[CV] END hidden_layer_sizes=(64, 64, 32), learning_rate_init=0.001; total time=   2.8s\n",
      "[CV] END hidden_layer_sizes=(64, 64, 32), learning_rate_init=0.01; total time=   1.4s\n",
      "[CV] END hidden_layer_sizes=(64, 64, 32), learning_rate_init=0.01; total time=   1.0s\n",
      "[CV] END hidden_layer_sizes=(64, 64, 32), learning_rate_init=0.01; total time=   1.3s\n",
      "[CV] END hidden_layer_sizes=(64, 64, 32), learning_rate_init=0.01; total time=   1.5s\n",
      "[CV] END hidden_layer_sizes=(64, 64, 32), learning_rate_init=0.01; total time=   1.1s\n",
      "Best Hyperparameters (PCA Reduced Data): {'hidden_layer_sizes': (64,), 'learning_rate_init': 0.0001}\n"
     ]
    }
   ],
   "source": [
    "# Define the MLP model\n",
    "mlp = MLPClassifier(max_iter=500, random_state=42)\n",
    "\n",
    "# Define the hyperparameter grid\n",
    "param_grid = {\n",
    "    'hidden_layer_sizes': [\n",
    "        (32,), (64,), (128,), (64, 32), (128, 64), (256, 128), (64, 64), (128, 128), (256, 256), (64, 64, 32)\n",
    "    ],\n",
    "    'learning_rate_init': [0.0001, 0.001, 0.01]\n",
    "}\n",
    "# Perform grid search with cross-validation\n",
    "grid_search_pca = GridSearchCV(estimator=mlp, param_grid=param_grid, cv=5, scoring='accuracy', verbose=2)\n",
    "grid_search_pca.fit(X_train_pca, y_train)\n",
    "# Output the best hyperparameters\n",
    "print(f\"Best Hyperparameters (PCA Reduced Data): {grid_search_pca.best_params_}\")"
   ]
  },
  {
   "cell_type": "markdown",
   "metadata": {},
   "source": [
    "##### Eveluate model"
   ]
  },
  {
   "cell_type": "code",
   "execution_count": 23,
   "metadata": {},
   "outputs": [
    {
     "name": "stdout",
     "output_type": "stream",
     "text": [
      "F1-Score on Test Set after PCA: 0.9100\n",
      "\n",
      "Classification Report:\n",
      "              precision    recall  f1-score   support\n",
      "\n",
      "           0       0.94      1.00      0.97       960\n",
      "           1       0.00      0.00      0.00        62\n",
      "\n",
      "    accuracy                           0.94      1022\n",
      "   macro avg       0.47      0.50      0.48      1022\n",
      "weighted avg       0.88      0.94      0.91      1022\n",
      "\n"
     ]
    },
    {
     "name": "stderr",
     "output_type": "stream",
     "text": [
      "d:\\Conestoga\\CSCN8000-AIAM\\CSCN8000\\venvCSCN8000\\Lib\\site-packages\\sklearn\\metrics\\_classification.py:1531: UndefinedMetricWarning: Precision is ill-defined and being set to 0.0 in labels with no predicted samples. Use `zero_division` parameter to control this behavior.\n",
      "  _warn_prf(average, modifier, f\"{metric.capitalize()} is\", len(result))\n",
      "d:\\Conestoga\\CSCN8000-AIAM\\CSCN8000\\venvCSCN8000\\Lib\\site-packages\\sklearn\\metrics\\_classification.py:1531: UndefinedMetricWarning: Precision is ill-defined and being set to 0.0 in labels with no predicted samples. Use `zero_division` parameter to control this behavior.\n",
      "  _warn_prf(average, modifier, f\"{metric.capitalize()} is\", len(result))\n",
      "d:\\Conestoga\\CSCN8000-AIAM\\CSCN8000\\venvCSCN8000\\Lib\\site-packages\\sklearn\\metrics\\_classification.py:1531: UndefinedMetricWarning: Precision is ill-defined and being set to 0.0 in labels with no predicted samples. Use `zero_division` parameter to control this behavior.\n",
      "  _warn_prf(average, modifier, f\"{metric.capitalize()} is\", len(result))\n"
     ]
    }
   ],
   "source": [
    "# Best model from Grid Search\n",
    "best_model_pca = grid_search_pca.best_estimator_\n",
    "\n",
    "# Predict on test set\n",
    "y_test_pred_pca = best_model_pca.predict(X_test_pca)\n",
    "\n",
    "# Evaluate the F1-Score\n",
    "f1_pca = f1_score(y_test, y_test_pred_pca, average='weighted')\n",
    "print(f\"F1-Score on Test Set after PCA: {f1_pca:.4f}\")\n",
    "\n",
    "# Classification Report\n",
    "print(\"\\nClassification Report:\")\n",
    "print(classification_report(y_test, y_test_pred_pca))"
   ]
  },
  {
   "cell_type": "markdown",
   "metadata": {},
   "source": [
    "##### 7. Compare and comment on the outputs of Step 4 and 6 and determine whether dimensionality reduction lead to performance enhancement."
   ]
  },
  {
   "cell_type": "markdown",
   "metadata": {},
   "source": [
    "- As F1 Score before and after the PCA is same. it shows that PCA did not affect model performance. This also indicates that dimensionality reduction remained essential information required for the classification. \n",
    "- The MLP model effectively captured the patterns in first training and it was not negatively affected by higher dimensions.\n",
    "- PCA reduced complexity and computational cost which made training faster\n"
   ]
  }
 ],
 "metadata": {
  "kernelspec": {
   "display_name": "venvCSCN8000",
   "language": "python",
   "name": "python3"
  },
  "language_info": {
   "codemirror_mode": {
    "name": "ipython",
    "version": 3
   },
   "file_extension": ".py",
   "mimetype": "text/x-python",
   "name": "python",
   "nbconvert_exporter": "python",
   "pygments_lexer": "ipython3",
   "version": "3.12.6"
  }
 },
 "nbformat": 4,
 "nbformat_minor": 2
}
