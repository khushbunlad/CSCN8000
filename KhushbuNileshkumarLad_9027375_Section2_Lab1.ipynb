{
 "cells": [
  {
   "cell_type": "markdown",
   "metadata": {},
   "source": [
    "# CSCN8000 –Artificial Intelligence Algorithms and Mathematics\n",
    "## Lab 1: Basic NumPy Operations"
   ]
  },
  {
   "cell_type": "markdown",
   "metadata": {},
   "source": [
    "## Part A \n",
    "### 1. Create an array that starts from the integer 1, ends at 20, incremented by 3."
   ]
  },
  {
   "cell_type": "code",
   "execution_count": 1,
   "metadata": {},
   "outputs": [
    {
     "name": "stdout",
     "output_type": "stream",
     "text": [
      "[1, 4, 7, 10, 13, 16, 19]\n"
     ]
    }
   ],
   "source": [
    "import numpy as np\n",
    "\n",
    "x=1\n",
    "array1_20=[]\n",
    "# Array initialization with loop\n",
    "while x<20:\n",
    "    array1_20.append(x)\n",
    "    x+=3\n",
    "\n",
    "print(array1_20)"
   ]
  },
  {
   "cell_type": "markdown",
   "metadata": {},
   "source": [
    "### 2. Create a new array of shape 3 with random numbers between 0 and 1."
   ]
  },
  {
   "cell_type": "code",
   "execution_count": 2,
   "metadata": {},
   "outputs": [
    {
     "name": "stdout",
     "output_type": "stream",
     "text": [
      "[0.5013873351569375, 0.6925870016510143, 0.1820569969181629]\n"
     ]
    }
   ],
   "source": [
    "import random\n",
    "# Array with random numbers between 0 and 1\n",
    "array_shape3 = [random.random(),random.random(),random.random()]; \n",
    "print(array_shape3)"
   ]
  },
  {
   "cell_type": "markdown",
   "metadata": {},
   "source": [
    "### 3. Create a 2 D array [[10,20,45],[30,12,16],[42,17,56]] and perform the following operations:\n",
    "- Slice the 2D array to get the first two rows, slice the 2D array to get the last two rows."
   ]
  },
  {
   "cell_type": "code",
   "execution_count": 3,
   "metadata": {},
   "outputs": [
    {
     "name": "stdout",
     "output_type": "stream",
     "text": [
      "First two rows: [[10, 20, 45], [30, 12, 16]]\n",
      "Last two rows: [[10, 20, 45], [30, 12, 16], [42, 17, 56]]\n"
     ]
    }
   ],
   "source": [
    "array2D =  [[10,20,45]\n",
    "            ,[30,12,16]\n",
    "            ,[42,17,56]]\n",
    "# Slice to get the first two rows\n",
    "first_two_rows = array2D[0:2]\n",
    "print(f\"First two rows: {first_two_rows}\")\n",
    "\n",
    "# Slice to get the last two rows\n",
    "last_two_rows = array2D[0:3]\n",
    "print(f\"Last two rows: {last_two_rows}\")"
   ]
  },
  {
   "cell_type": "markdown",
   "metadata": {},
   "source": [
    "### 4. Create two 2x2 arrays and demonstrate how you can stack the elements vertically, horizontally, and split the arrays into smaller arrays."
   ]
  },
  {
   "cell_type": "code",
   "execution_count": 4,
   "metadata": {},
   "outputs": [
    {
     "name": "stdout",
     "output_type": "stream",
     "text": [
      "Array 1 : \n",
      " [[1 2]\n",
      " [3 4]] \n",
      "\n",
      " Array 2 : \n",
      "[[5 6]\n",
      " [7 8]]\n",
      "\n",
      " Vertical Stack : \n",
      "[[1 2]\n",
      " [3 4]\n",
      " [5 6]\n",
      " [7 8]]\n",
      "\n",
      " Horizontal Stack : \n",
      " [[1 2 5 6]\n",
      " [3 4 7 8]]\n",
      "\n",
      " Vertical Split :\n",
      "[[1 2]]\n",
      "[[3 4]]\n",
      "[[5 6]]\n",
      "[[7 8]]\n",
      "\n",
      "Horizontal Split :\n",
      "[[1]\n",
      " [3]]\n",
      "[[2]\n",
      " [4]]\n",
      "[[5]\n",
      " [7]]\n",
      "[[6]\n",
      " [8]]\n"
     ]
    }
   ],
   "source": [
    "# Array declaration\n",
    "array1 = np.array([[1, 2], [3, 4]])\n",
    "array2 = np.array([[5, 6], [7, 8]])\n",
    "\n",
    "print(f\"Array 1 : \\r\\n {array1} \\r\\n\\r\\n Array 2 : \\r\\n{array2}\")\n",
    "\n",
    "# Stack elements vertically\n",
    "vertical_stack = np.vstack((array1, array2))\n",
    "print(f\"\\r\\n Vertical Stack : \\r\\n{vertical_stack}\")\n",
    "\n",
    "# Stack elements horizontally\n",
    "horizontal_stack = np.hstack((array1, array2))\n",
    "print(f\"\\r\\n Horizontal Stack : \\r\\n {horizontal_stack}\")\n",
    "\n",
    "# Split elements vertically\n",
    "split_vertical = np.vsplit(vertical_stack, 4)\n",
    "print(\"\\n Vertical Split :\")\n",
    "for arr in split_vertical:\n",
    "    print(arr)\n",
    "\n",
    "# Split elements horizontally\n",
    "split_horizontal = np.hsplit(horizontal_stack, 4)\n",
    "print(\"\\nHorizontal Split :\")\n",
    "for arr in split_horizontal:\n",
    "    print(arr)"
   ]
  },
  {
   "cell_type": "markdown",
   "metadata": {},
   "source": [
    "### 5. Create two matrices 𝑋 = ([[5, 7, 2],[4, 5, 6],[7, 4 ,2]]), 𝑌 = ([[4, 2],[6, 2],[4, 2]]),\n",
    "- #### Is it possible to multiply these matrices?\n",
    "    X = 3 x 3\n",
    "    Y = 3 x 2\n",
    "\n",
    "    As per metrix multiplication rule, \n",
    "    Number of rows in X = Number of rows in Y\n",
    "\n",
    "    Metrix multiplication is **POSSIBLE**\n",
    "\n",
    "- #### Demonstrate the case when it is not possible to\n",
    "    In case number of rows in Y are **not equals** to number of columns in X. \n",
    "    i.e \n",
    "    X = 3 x 3\n",
    "    \n",
    "    Y = 2 x 3 \n",
    "    OR Y = 4 x 3\n"
   ]
  },
  {
   "cell_type": "markdown",
   "metadata": {},
   "source": [
    "### 6. Create two arrays, 𝑥 = ([2, −1, −8]) 𝑦 = ([3, 1, −2]),\n",
    "- Find the Shape, Number of dimensions of vector x.\n",
    "- Reshape the vector x to a matrix of size (3,1) and determine the number of dimensions after reshaping y to a matrix of (3,1)."
   ]
  },
  {
   "cell_type": "code",
   "execution_count": 5,
   "metadata": {},
   "outputs": [
    {
     "name": "stdout",
     "output_type": "stream",
     "text": [
      "x : Shape : (3,)\n",
      "x : Number of dimention : 1\n",
      "x : Reshape to (3,1) \n",
      " [[ 2]\n",
      " [-1]\n",
      " [-8]]\n",
      "y : Reshape to (3,1) \n",
      " [[ 3]\n",
      " [ 1]\n",
      " [-2]]\n",
      "y : Shape : (3, 1)\n",
      "y : Number of dimention : 2\n"
     ]
    }
   ],
   "source": [
    "x = np.array([2,-1,-8])\n",
    "y = np.array([3,1,-2])\n",
    "\n",
    "# Shape and dimention of \"x\"\n",
    "print(f\"x : Shape : {x.shape}\")\n",
    "print(f\"x : Number of dimention : {x.ndim}\")\n",
    "\n",
    "# Reshape array\n",
    "x = x.reshape(3,1)\n",
    "y= y.reshape(3,1)\n",
    "\n",
    "print(f\"x : Reshape to (3,1) \\r\\n {x}\")\n",
    "print(f\"y : Reshape to (3,1) \\r\\n {y}\")\n",
    "\n",
    "# Shape and dimention of \"y\"\n",
    "print(f\"y : Shape : {y.shape}\")\n",
    "print(f\"y : Number of dimention : {y.ndim}\")"
   ]
  },
  {
   "cell_type": "markdown",
   "metadata": {},
   "source": [
    "### 7. How does broadcasting work? Demonstrate the subtraction, multiplication by considering a 3 x 3 matrix.\n",
    "\n",
    "- Broadcasting in Numpy mainly deals with aritmatic operations of different shapes of arrays. It mainly tries to broadcast smaller array accross the larger one in a way that both arrays complies each other or the operation. \n",
    "- For ideal numpy operations, 2 array must have same shapes. whereas, broadcasting deals with relaxing this condition \n",
    "\n",
    "#### Example\n",
    "In below code, \n",
    "1. ```array1``` - 3 x 3 \n",
    "2. ```array2``` - 3 x 3\n",
    "3. ```array3``` - 1 x 3\n",
    "4. ```array4``` - 3 x 1\n",
    "\n",
    "Here, array 2,3 and 4 are not same dimention as 1, so those are \"Broadcasted\" to \"array1\"\n",
    "\n",
    "Code prints output of sample substraction and multiplication of array1 with other 3 arrays and scaler value\n"
   ]
  },
  {
   "cell_type": "code",
   "execution_count": 6,
   "metadata": {},
   "outputs": [
    {
     "name": "stdout",
     "output_type": "stream",
     "text": [
      "Sample substrcation with same dimention of array\n",
      "\n",
      "[[0 0 0]\n",
      " [0 0 0]\n",
      " [0 0 0]]\n",
      "\n",
      "Sample substrcation with small of array ( 1 x 3 )\n",
      "\n",
      "[[0 0 0]\n",
      " [3 3 3]\n",
      " [6 6 6]]\n",
      "\n",
      "Sample substrcation with small of array ( 3 x 1 )\n",
      "\n",
      "[[0 1 2]\n",
      " [2 3 4]\n",
      " [4 5 6]]\n",
      "\n",
      "Sample subtraction with integer value\n",
      "\n",
      "[[-2 -1  0]\n",
      " [ 1  2  3]\n",
      " [ 4  5  6]]\n",
      "Sample multiplication with same dimention of array \n",
      "\n",
      "[[ 1  4  9]\n",
      " [16 25 36]\n",
      " [49 64 81]]\n",
      "\n",
      "Sample multiplication with small of array ( 1 x 3 )\n",
      "\n",
      "[[ 1  4  9]\n",
      " [ 4 10 18]\n",
      " [ 7 16 27]]\n",
      "\n",
      "Sample multiplication with small of array ( 3 x 1 )\n",
      "\n",
      "[[ 1  2  3]\n",
      " [ 8 10 12]\n",
      " [21 24 27]]\n",
      "\n",
      "Sample multiplication with integer value\n",
      "\n",
      "[[ 3  6  9]\n",
      " [12 15 18]\n",
      " [21 24 27]]\n"
     ]
    }
   ],
   "source": [
    "array1 = np.array([[1,2,3],[4,5,6],[7,8,9]])\n",
    "array2 = np.array([[1,2,3],[4,5,6],[7,8,9]])\n",
    "array3 = np.array([[1,2,3]])\n",
    "array4 = np.array([[1],[2],[3]])\n",
    "\n",
    "\n",
    "\n",
    "# Sample substrcation with same dimention of array\n",
    "print(\"Sample substrcation with same dimention of array\\r\\n\")\n",
    "print(array1-array2)\n",
    "\n",
    "# Sample substrcation with small of array ( 1 x 3 )\n",
    "print(\"\\r\\nSample substrcation with small of array ( 1 x 3 )\\r\\n\")\n",
    "print(array1-array3)\n",
    "\n",
    "# Sample substrcation with small of array ( 3 x 1 )\n",
    "print(\"\\r\\nSample substrcation with small of array ( 3 x 1 )\\r\\n\")\n",
    "print(array1-array4)\n",
    "\n",
    "# Sample subtraction with integer value\n",
    "print(\"\\r\\nSample subtraction with integer value\\r\\n\")\n",
    "print(array1-3)\n",
    "\n",
    "\n",
    "# Sample multiplication with same dimention of array\n",
    "print(\"Sample multiplication with same dimention of array \\r\\n\")\n",
    "print(array1*array2)\n",
    "\n",
    "# Sample multiplication with small of array ( 1 x 3 )\n",
    "print(\"\\r\\nSample multiplication with small of array ( 1 x 3 )\\r\\n\")\n",
    "print(array1*array3)\n",
    "\n",
    "# Sample multiplication with small of array\n",
    "print(\"\\r\\nSample multiplication with small of array ( 3 x 1 )\\r\\n\")\n",
    "print(array1*array4)\n",
    "\n",
    "# Sample multiplication with integer value\n",
    "print(\"\\r\\nSample multiplication with integer value\\r\\n\")\n",
    "print(array1*3)\n",
    "\n"
   ]
  },
  {
   "cell_type": "markdown",
   "metadata": {},
   "source": [
    "## Part B- Linear Equations [15 Points]\n",
    "### Determine the singularity of the system of equations, comment on the expected solution of the system. Solve the system of equations if possible. Justify the reason why you believe the system can or cannot be solved using NumPy functions.\n",
    "\n",
    "#### Part B.1\n",
    "1. 4x + y - 2z = 10\n",
    "2. 2x - 3y + 2z = -4\n",
    "3. x + 2y + 3z = 6"
   ]
  },
  {
   "cell_type": "code",
   "execution_count": 7,
   "metadata": {},
   "outputs": [
    {
     "name": "stdout",
     "output_type": "stream",
     "text": [
      "Determinant of LHS matrix : -70.00000000000003\n",
      "This Result (x, y, z): [ 1.8  2.4 -0.2]\n"
     ]
    }
   ],
   "source": [
    "# Initialise arrays / matrices\n",
    "# Set 1\n",
    "equation_set1_lhs = np.array([\n",
    "                            [4,1,-2]\n",
    "                           ,[2,-3,2]\n",
    "                           ,[1,2,3]\n",
    "                           ]\n",
    "                           )\n",
    "equation_set1_rhs = np.array([10,-4,6])\n",
    "\n",
    "# Check the determinant  \n",
    "det1_lhs = np.linalg.det(equation_set1_lhs)\n",
    "print(\"Determinant of LHS matrix :\", det1_lhs)\n",
    "\n",
    "# Check singularity and print result\n",
    "if det1_lhs !=0 :\n",
    "    # System has single solution\n",
    "    result1 = np.linalg.solve(equation_set1_lhs, equation_set1_rhs)\n",
    "    print(\"This Result (x, y, z):\", result1)\n",
    "else:\n",
    "    # System has no solution\n",
    "    print(\"Metrix is not singular. so system has no solution / infinite solution\")\n"
   ]
  },
  {
   "cell_type": "markdown",
   "metadata": {},
   "source": [
    "#### Part B.2\n",
    "1. 2x - y + 3z + 4w = 10\n",
    "2. 4x - 2y + 6z + 8w = 20\n",
    "3. 3x + y - 2z + 2w = 3\n",
    "4. x + 3y - 4z + w = -1"
   ]
  },
  {
   "cell_type": "code",
   "execution_count": 8,
   "metadata": {},
   "outputs": [
    {
     "name": "stdout",
     "output_type": "stream",
     "text": [
      "Determinant of LHS matrix : 0.0\n",
      "Metrix is not singular. so system has no solution / infinite solution\n"
     ]
    }
   ],
   "source": [
    "equation_set2_lhs = np.array([  [2,-1,3,4]\n",
    "                              ,[4,-2,6,8]\n",
    "                              ,[3,1,-2,2]\n",
    "                              ,[1,3,-4,1] \n",
    "                           ])\n",
    "equation_set2_rhs = np.array([10,20,3,-1])\n",
    "# Check the determinant  \n",
    "det2_lhs = np.linalg.det(equation_set2_lhs)\n",
    "print(\"Determinant of LHS matrix :\", det2_lhs)\n",
    "\n",
    "# Check singularity and print result\n",
    "if det2_lhs !=0 :\n",
    "    # System has single solution\n",
    "    result2 = np.linalg.solve(equation_set2_lhs, equation_set2_rhs)\n",
    "    print(\"This Result (w, x, y, z):\", result2)\n",
    "else:\n",
    "    # System has no solution\n",
    "    print(\"Metrix is not singular. so system has no solution / infinite solution\")"
   ]
  },
  {
   "cell_type": "markdown",
   "metadata": {},
   "source": [
    "### Reference\n",
    "\n",
    "Broadcasting — NUMPY v2.1 Manual. (n.d.). \n",
    "https://numpy.org/doc/stable/user/basics.broadcasting.html\n",
    "\n",
    "numpy.broadcast — NumPy v2.1 Manual. (n.d.). \n",
    "https://numpy.org/doc/stable/reference/generated/numpy.broadcast.html "
   ]
  }
 ],
 "metadata": {
  "kernelspec": {
   "display_name": "venvCSCN8000",
   "language": "python",
   "name": "python3"
  },
  "language_info": {
   "codemirror_mode": {
    "name": "ipython",
    "version": 3
   },
   "file_extension": ".py",
   "mimetype": "text/x-python",
   "name": "python",
   "nbconvert_exporter": "python",
   "pygments_lexer": "ipython3",
   "version": "3.12.6"
  }
 },
 "nbformat": 4,
 "nbformat_minor": 2
}
